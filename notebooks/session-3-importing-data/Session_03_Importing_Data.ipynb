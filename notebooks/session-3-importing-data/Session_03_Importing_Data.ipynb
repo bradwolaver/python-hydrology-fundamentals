{
 "cells": [
  {
   "cell_type": "markdown",
   "id": "a0321c56-88c2-474b-a464-d1b93ba4614f",
   "metadata": {},
   "source": [
    "## Introduction to Python for Hydrology\n",
    "## Session 3: Importing Data from Structured Data Files (Text, CSV, Excel)"
   ]
  },
  {
   "cell_type": "markdown",
   "id": "ca2b45b7-8166-4230-82fc-c68344fb16db",
   "metadata": {},
   "source": [
    "Prepared by Brad Wolaver<br>\n",
    "New Mexico Office of the State Engineer, Hydrology Bureau, Santa Fe, NM<br>\n",
    "October 17, 2024 (Updated January 8, 2025)"
   ]
  },
  {
   "cell_type": "markdown",
   "id": "31e42b9b-00c4-4d39-9b6d-8aa900ba3276",
   "metadata": {},
   "source": [
    "## Objective\n",
    "Learn how to import data from a text file and store it in a pandas DataFrame.<br>We’ll be playing with streamflow data from the [USGS Embudo gage](https://www.usgs.gov/news/state-news-release/first-usgs-streamgage-records-125-years-measuring-new-mexicos-vital-water), the oldest in the nation.\n",
    "\n",
    "This session demonstrates reading a tab-delimited text file using pandas. The same approach can be adapted for CSV files, Excel files, or text files with different delimiters by modifying the `read_csv()` parameters:\n",
    "\n",
    "- For CSV: `pd.read_csv('file.csv')`\n",
    "- For Excel: `pd.read_excel('file.xlsx')`\n",
    "- For other delimiters: `pd.read_csv('file.txt', sep='|')` # Replace | with desired delimiter\n",
    "\n",
    "## Expected Outcomes\n",
    "By the end of this session, you should be able to:\n",
    "- Import tab-delimited USGS stream gage data files.\n",
    "- Load data into a pandas DataFrame.\n",
    "- Inspect the DataFrame using basic methods.\n",
    "- Create a simple plot to visualize the data.\n",
    "- Understand the basics of 0-based indexing in Python."
   ]
  },
  {
   "cell_type": "markdown",
   "id": "e690d3e2-f959-4c0c-9ff3-29185fc59e24",
   "metadata": {},
   "source": [
    "## Importing Necessary Libraries"
   ]
  },
  {
   "cell_type": "code",
   "execution_count": 1,
   "id": "2b6e7a07-62c5-4d21-a1f0-bc1a58dee494",
   "metadata": {},
   "outputs": [],
   "source": [
    "# Import pandas for data manipulation\n",
    "import pandas as pd\n",
    "\n",
    "# Import matplotlib for plotting\n",
    "import matplotlib.pyplot as plt\n",
    "\n",
    "# Enable inline plotting for Jupyter Notebook\n",
    "# %matplotlib inline is a Jupyter magic command that configures matplotlib to display plots directly in the notebook\n",
    "# This command is still useful in Jupyter, including newer versions, for consistent plot rendering\n",
    "%matplotlib inline"
   ]
  },
  {
   "cell_type": "markdown",
   "id": "5f2d9f20-ad53-4117-b26a-a55f7fa0219a",
   "metadata": {},
   "source": [
    "## Reading the Data File"
   ]
  },
  {
   "cell_type": "markdown",
   "id": "fd19bbee-c87f-4c08-b81d-f148d125640b",
   "metadata": {},
   "source": [
    "### Step 1: Read the File Into a pandas DataFrame"
   ]
  },
  {
   "cell_type": "code",
   "execution_count": 2,
   "id": "ed679b7d-9e42-42e3-a05a-750554f2da85",
   "metadata": {},
   "outputs": [
    {
     "name": "stdout",
     "output_type": "stream",
     "text": [
      "  agency_cd  site_no    datetime  99708_00060_00003 99708_00060_00003_cd\n",
      "0      USGS  8279500  1889-01-01              398.0                    A\n",
      "1      USGS  8279500  1889-01-02              385.0                    A\n",
      "2      USGS  8279500  1889-01-03              395.0                    A\n",
      "3      USGS  8279500  1889-01-04              400.0                    A\n",
      "4      USGS  8279500  1889-01-05              413.0                    A\n"
     ]
    }
   ],
   "source": [
    "# Read the tab-delimited text file into a DataFrame\n",
    "df = pd.read_csv('embudo_no_header.txt', sep='\\t') # \\t indicates that it is a tab-delimited file\n",
    "\n",
    "# Display the first few rows to verify the data\n",
    "print(df.head())"
   ]
  },
  {
   "cell_type": "code",
   "execution_count": 3,
   "id": "b819ef84-484a-45ef-b5e4-87b1ce23496c",
   "metadata": {},
   "outputs": [
    {
     "name": "stdout",
     "output_type": "stream",
     "text": [
      "   agency_cd  site_no    datetime  99708_00060_00003 99708_00060_00003_cd\n",
      "0       USGS  8279500  1889-01-01              398.0                    A\n",
      "1       USGS  8279500  1889-01-02              385.0                    A\n",
      "2       USGS  8279500  1889-01-03              395.0                    A\n",
      "3       USGS  8279500  1889-01-04              400.0                    A\n",
      "4       USGS  8279500  1889-01-05              413.0                    A\n",
      "5       USGS  8279500  1889-01-06              408.0                    A\n",
      "6       USGS  8279500  1889-01-07              410.0                    A\n",
      "7       USGS  8279500  1889-01-08              405.0                    A\n",
      "8       USGS  8279500  1889-01-09              379.0                    A\n",
      "9       USGS  8279500  1889-01-10              418.0                    A\n",
      "10      USGS  8279500  1889-01-11              398.0                    A\n",
      "11      USGS  8279500  1889-01-12              432.0                    A\n",
      "12      USGS  8279500  1889-01-13              435.0                    A\n",
      "13      USGS  8279500  1889-01-14              470.0                    A\n",
      "14      USGS  8279500  1889-01-15              470.0                    A\n",
      "15      USGS  8279500  1889-01-16              454.0                    A\n",
      "16      USGS  8279500  1889-01-17              435.0                    A\n",
      "17      USGS  8279500  1889-01-18              408.0                    A\n",
      "18      USGS  8279500  1889-01-19              426.0                    A\n",
      "19      USGS  8279500  1889-01-20              423.0                    A\n",
      "20      USGS  8279500  1889-01-21              447.0                    A\n",
      "21      USGS  8279500  1889-01-22              486.0                    A\n",
      "22      USGS  8279500  1889-01-23              441.0                    A\n",
      "23      USGS  8279500  1889-01-24              462.0                    A\n",
      "24      USGS  8279500  1889-01-25              441.0                    A\n"
     ]
    }
   ],
   "source": [
    "# Specify the number of rows you'd like to display\n",
    "print(df.head(25))"
   ]
  },
  {
   "cell_type": "markdown",
   "id": "9893422e-887a-445a-8316-6c6a2577cc9f",
   "metadata": {},
   "source": [
    "### Step 2: Working with Dates in DataFrames"
   ]
  },
  {
   "cell_type": "markdown",
   "id": "b047a0f0-86b9-4125-af4d-d8ed2e4b171c",
   "metadata": {},
   "source": [
    "Inspect Data Types of Each Column in DataFrame `df`"
   ]
  },
  {
   "cell_type": "code",
   "execution_count": 4,
   "id": "be705dee-40dd-4f8c-8046-05eb38d8406d",
   "metadata": {},
   "outputs": [
    {
     "name": "stdout",
     "output_type": "stream",
     "text": [
      "agency_cd                object\n",
      "site_no                   int64\n",
      "datetime                 object\n",
      "99708_00060_00003       float64\n",
      "99708_00060_00003_cd     object\n",
      "dtype: object\n"
     ]
    }
   ],
   "source": [
    "print(df.dtypes)"
   ]
  },
  {
   "cell_type": "markdown",
   "id": "cccff92f-3f1f-4635-b5d2-1a0551fceb1e",
   "metadata": {},
   "source": [
    "##### Converting 'datetime' Column to Datetime Objects"
   ]
  },
  {
   "cell_type": "markdown",
   "id": "ef7c5f44-b86e-4893-a56d-a28692464a34",
   "metadata": {},
   "source": [
    "In the dataframe `df` pandas sees `datetime` as an object, which in this case is a string.  We need to Convert the `datetime` column from a string format to actual datetime objects.<br><br>\n",
    "**Why do you need to convert the datetime format?**\n",
    "\n",
    "This conversion is crucial for proper time series handling in pandas for several reasons:\n",
    "\n",
    "1.\tEnables time-based indexing and slicing of the DataFrame,\n",
    "2.\tAllows for time-based calculations and operations,\n",
    "3.\tFacilitates proper sorting and grouping by date and time, and\n",
    "4.\tEnables the use of time series-specific functions and methods in pandas.\n",
    "\n",
    "The `pd.to_datetime()` function automatically detects common date and time formats, such as that used by the USGS. However, if your datetime strings are in an unusual format for some reason, you may need to specify the format explicitly using the `format` parameter.\n",
    "\n",
    "After this conversion, you can perform various time-based operations on your data, such as resampling, time-based filtering, or calculating time differences, so the conversion is super important."
   ]
  },
  {
   "cell_type": "code",
   "execution_count": 5,
   "id": "3e9f050a-b5b5-4b5a-a962-a79d39543aa7",
   "metadata": {},
   "outputs": [],
   "source": [
    "# Convert the 'datetime' column from string to datetime objects\n",
    "df['datetime'] = pd.to_datetime(df['datetime'])"
   ]
  },
  {
   "cell_type": "markdown",
   "id": "58ddede5-805f-44dc-a565-860865bc9520",
   "metadata": {},
   "source": [
    "**Explanation** of the command `df['datetime']=pd.to_datetime(df['datetime'])`:\n",
    "\n",
    "- `df`:  A DataFrame (a table-like data structure in pandas) which has a column called `datetime` containing dates stored as strings (text).\n",
    "- `df['datetime']`: This refers to the `datetime` column in the DataFrame `df`.  It selects the column so we can work with it.\n",
    "- `pd.to_datetime()`:\n",
    "    - `pd` is short for pandas, a library in Python for working with data.\n",
    "    - `to_datetime()` is a pandas function that converts strings representing dates (e.g., \"1889-01-01\") into actual datetime objects.  \n",
    "    - Datetime objects are much easier to work with for tasks like sorting, filtering, or plotting by date. They allow Python to understand and manipulate the dates as actual points in time.\n",
    "- Assignment  = : The equals sign is used to assign the result of the pd.to_datetime() conversion back to the datetime column in the DataFrame df.  "
   ]
  },
  {
   "cell_type": "markdown",
   "id": "cebae737-4698-43d4-b744-1a79bfee16e4",
   "metadata": {},
   "source": [
    "Now, verify that the conversion worked as expected by checking data types again"
   ]
  },
  {
   "cell_type": "code",
   "execution_count": 6,
   "id": "5c664887-286c-40a7-aa60-604ec7bf0ada",
   "metadata": {},
   "outputs": [
    {
     "name": "stdout",
     "output_type": "stream",
     "text": [
      "agency_cd                       object\n",
      "site_no                          int64\n",
      "datetime                datetime64[ns]\n",
      "99708_00060_00003              float64\n",
      "99708_00060_00003_cd            object\n",
      "dtype: object\n"
     ]
    }
   ],
   "source": [
    "print(df.dtypes)"
   ]
  },
  {
   "cell_type": "markdown",
   "id": "7fbe7e4e-f9b1-4f76-a62b-ef072245f940",
   "metadata": {},
   "source": [
    "### Step 3: Set 'datetime' as the Index"
   ]
  },
  {
   "cell_type": "code",
   "execution_count": 7,
   "id": "48d7787e-d94f-40b1-b299-98e7f2979a26",
   "metadata": {},
   "outputs": [
    {
     "name": "stdout",
     "output_type": "stream",
     "text": [
      "  agency_cd  site_no   datetime  99708_00060_00003 99708_00060_00003_cd\n",
      "0      USGS  8279500 1889-01-01              398.0                    A\n",
      "1      USGS  8279500 1889-01-02              385.0                    A\n",
      "2      USGS  8279500 1889-01-03              395.0                    A\n",
      "3      USGS  8279500 1889-01-04              400.0                    A\n",
      "4      USGS  8279500 1889-01-05              413.0                    A\n"
     ]
    }
   ],
   "source": [
    "# Display the first few rows to verify the data\n",
    "print(df.head())"
   ]
  },
  {
   "cell_type": "markdown",
   "id": "89f55396-df43-4cbb-b77a-1c850762344b",
   "metadata": {},
   "source": [
    "Notice that datetime is now a datetime object of the format `datetime64[ns]`.  The `ns` indicates that the datetime has nanosecond precision.  We don't need this level of precision, but we can still use this format for daily, monthly, or yearly analyses."
   ]
  },
  {
   "cell_type": "markdown",
   "id": "ca62b89d-083e-4ba5-8521-dea46724d18a",
   "metadata": {},
   "source": [
    "So, now we'll set the index of the dataframe as datetime so that we can de timeseries analyses with the dataframe."
   ]
  },
  {
   "cell_type": "markdown",
   "id": "9d95efb9-b757-4dd6-a25c-f56533bbe34f",
   "metadata": {},
   "source": [
    "You'll notice that the header now has one column on the left that does not have a title.  It starts with 0 and increments.  This is the index of the dataframe.  In the dataframe's current format, it does not know that each row of data is for a particular day -- only rows labeled 0, 1, 2, etc."
   ]
  },
  {
   "cell_type": "code",
   "execution_count": 8,
   "id": "cc8e779c-e5b7-40ca-b3d5-10f0d42f5b2f",
   "metadata": {
    "scrolled": true
   },
   "outputs": [],
   "source": [
    "# Set 'datetime' as the index of the DataFrame\n",
    "df = df.set_index('datetime')"
   ]
  },
  {
   "cell_type": "code",
   "execution_count": 9,
   "id": "5571f270-89dc-44cc-8ce5-96b1d3fe2e10",
   "metadata": {},
   "outputs": [
    {
     "name": "stdout",
     "output_type": "stream",
     "text": [
      "           agency_cd  site_no  99708_00060_00003 99708_00060_00003_cd\n",
      "datetime                                                             \n",
      "1889-01-01      USGS  8279500              398.0                    A\n",
      "1889-01-02      USGS  8279500              385.0                    A\n",
      "1889-01-03      USGS  8279500              395.0                    A\n",
      "1889-01-04      USGS  8279500              400.0                    A\n",
      "1889-01-05      USGS  8279500              413.0                    A\n"
     ]
    }
   ],
   "source": [
    "# Display the first few rows to verify the data\n",
    "print(df.head())"
   ]
  },
  {
   "cell_type": "markdown",
   "id": "4162ab32-f3c0-4d6a-9600-564b9013d960",
   "metadata": {},
   "source": [
    "'datetime' is now the index of the DataFrame. It is not listed as a column anymore because pandas considers the index to be separate from the regular columns."
   ]
  },
  {
   "cell_type": "code",
   "execution_count": 10,
   "id": "3acd3157-ed24-40f3-99ff-cea26920ae50",
   "metadata": {},
   "outputs": [
    {
     "name": "stdout",
     "output_type": "stream",
     "text": [
      "agency_cd                object\n",
      "site_no                   int64\n",
      "99708_00060_00003       float64\n",
      "99708_00060_00003_cd     object\n",
      "dtype: object\n"
     ]
    }
   ],
   "source": [
    "print(df.dtypes)"
   ]
  },
  {
   "cell_type": "markdown",
   "id": "0008d423-8600-487d-9223-2ed69d2378f0",
   "metadata": {},
   "source": [
    "Checking the datatypes also shows that datatime is no longer one of the data rows of the dataframe, because it is the index."
   ]
  },
  {
   "cell_type": "markdown",
   "id": "6cc257b2-c236-4492-b3b2-11c6e21b1b03",
   "metadata": {},
   "source": [
    "Nov verify the index of the DataFrame in another way"
   ]
  },
  {
   "cell_type": "code",
   "execution_count": 11,
   "id": "3fd9341c-4e73-4b14-bb80-01ff29f7b1f8",
   "metadata": {},
   "outputs": [
    {
     "name": "stdout",
     "output_type": "stream",
     "text": [
      "DatetimeIndex(['1889-01-01', '1889-01-02', '1889-01-03', '1889-01-04',\n",
      "               '1889-01-05', '1889-01-06', '1889-01-07', '1889-01-08',\n",
      "               '1889-01-09', '1889-01-10',\n",
      "               ...\n",
      "               '2023-11-21', '2023-11-22', '2023-11-23', '2023-11-24',\n",
      "               '2023-11-25', '2023-11-26', '2023-11-27', '2023-11-28',\n",
      "               '2023-11-29', '2023-11-30'],\n",
      "              dtype='datetime64[ns]', name='datetime', length=49276, freq=None)\n"
     ]
    }
   ],
   "source": [
    "# Check the index of the DataFrame\n",
    "print(df.index)"
   ]
  },
  {
   "cell_type": "markdown",
   "id": "d4b65bde-4e24-4173-b8ad-9b5fc2b3b74b",
   "metadata": {},
   "source": [
    "**Here's a breakdown of what each part of the output means:**\n",
    "\n",
    "1. `DatetimeIndex([...])`\n",
    "   - `DatetimeIndex`: This tells you that the DataFrame’s index is now a DatetimeIndex, which means it is specifically designed to hold date and time values.\n",
    "   - The list inside the brackets is truncated as indicated by the ellipsis (…), but it shows the actual date values in the index.  In this case, the index includes dates starting from '1889-01-01' and ending with '2023-11-30'.\n",
    "\n",
    "2. `dtype='datetime64[ns]'`\n",
    "   - `dtype='datetime64[ns]'`: This tells you the data type of the index. In this case, it is datetime64[ns], which means the dates are stored with nanosecond precision.\n",
    "\n",
    "3. `name='datetime'`\n",
    "   - `name='datetime'`: This confirms that the name of the index is 'datetime'.  This name comes from the column that was used to set the index, and it’s helpful for identifying or referencing the index in operations.\n",
    "\n",
    "\n",
    "4. `length=49276`\n",
    "   - length=49276: This tells you that there are 49,276 rows in your DataFrame, meaning the index has 49,276 distinct date entries.\n",
    "\n",
    "5. `freq=None`\n",
    "   - `freq=None`: This indicates that there is no regular frequency (like daily, weekly, or monthly) associated with the dates in the index.\n",
    "   - If there were a regular frequency (e.g., one date per day), it might show something like freq='D' for daily data.  Since freq=None, it means the dates in the index may not follow a consistent interval, or pandas hasn’t detected a regular pattern.\n",
    "\n",
    "\n",
    "**Usefulness of DatetimeIndex:**\n",
    "   - Having a DatetimeIndex allows you to easily filter, slice, or group your data by time periods.\n",
    "   - You can perform time-based operations like resampling (e.g., averaging monthly or yearly data) or selecting data from a specific range of dates.\n"
   ]
  },
  {
   "cell_type": "code",
   "execution_count": 12,
   "id": "dd68dccb-1199-44d0-b872-aac2975c814b",
   "metadata": {},
   "outputs": [
    {
     "name": "stdout",
     "output_type": "stream",
     "text": [
      "           agency_cd  site_no  99708_00060_00003 99708_00060_00003_cd\n",
      "datetime                                                             \n",
      "2023-11-26      USGS  8279500              287.0                    P\n",
      "2023-11-27      USGS  8279500              250.0                    P\n",
      "2023-11-28      USGS  8279500              236.0                    P\n",
      "2023-11-29      USGS  8279500              271.0                    P\n",
      "2023-11-30      USGS  8279500              283.0                    P\n"
     ]
    }
   ],
   "source": [
    "print(df.tail())"
   ]
  },
  {
   "cell_type": "markdown",
   "id": "4bdfd928-98aa-410d-8276-548506638ac5",
   "metadata": {},
   "source": [
    "## Inspecting the Data Using Summary Statistics"
   ]
  },
  {
   "cell_type": "markdown",
   "id": "b40f9e0a-8bab-4576-ad2c-82c53b1182c7",
   "metadata": {},
   "source": [
    "We can use the `describe` command to look at summary statistics of the dataframe, such as mean, standard deviation, min, and max. "
   ]
  },
  {
   "cell_type": "code",
   "execution_count": 13,
   "id": "178819e0-5f77-477b-981e-27c4f752711f",
   "metadata": {},
   "outputs": [
    {
     "name": "stdout",
     "output_type": "stream",
     "text": [
      "         site_no  99708_00060_00003\n",
      "count    49276.0       45987.000000\n",
      "mean   8279500.0         872.298171\n",
      "std          0.0        1124.857367\n",
      "min    8279500.0         130.000000\n",
      "25%    8279500.0         362.000000\n",
      "50%    8279500.0         525.000000\n",
      "75%    8279500.0         794.000000\n",
      "max    8279500.0       15900.000000\n"
     ]
    }
   ],
   "source": [
    "# Generate basic summary statistics\n",
    "print(df.describe())"
   ]
  },
  {
   "cell_type": "markdown",
   "id": "46e5c49d-1a3a-4bfa-9963-bc05c7d3198d",
   "metadata": {},
   "source": [
    "**Explanation of Each Statistic:**\n",
    "    \n",
    "1.\t1site_no1 Column:\n",
    "   - This column contains the site number (8279500), and in this case, it doesn’t vary (which is why the standard deviation is 0).  Since this value doesn't change, the summary statistics for this column are not very useful here.\n",
    "   - Key takeaway: The site number is fixed (no variation).\n",
    "2.\t199708_00060_000031 Column (Streamflow in cfs):\n",
    "   - This column represents streamflow data, so the summary statistics provide an insight into how the streamflow varies over time.\n",
    "   - count (45987): This shows that there are 45,987 valid values in this column. This means some data might be missing (since the total row count is 49,276).\n",
    "   - mean (872.30): This is the average streamflow value. It means that, on average, the streamflow over time is around 872 cubic feet per second (cfs).\n",
    "   - std (Standard Deviation) (1124.86): This tells you how much the streamflow values vary from the mean. A high standard deviation (1124.86) indicates that streamflow values can be spread out over a wide range.\n",
    "   - min (130.0): This is the minimum streamflow value recorded, meaning the lowest streamflow observed was 130 cfs.\n",
    "   - 25% (1st Quartile) (362.0): This is the value below which 25% of the data falls. So, 25% of the time, streamflow was below 362 cfs.\n",
    "   - 50% (Median or 2nd Quartile) (525.0): This is the median streamflow value. Half the values are below 525 cfs, and half are above. The median gives you a better idea of a typical streamflow value, especially when the data has extreme values (outliers).\n",
    "   - 75% (3rd Quartile) (794.0): This is the value below which 75% of the data falls. So, 75% of the time, streamflow was below 794 cfs.\n",
    "   - max (15900.0): This is the maximum streamflow value recorded, meaning the highest streamflow observed was 15,900 cfs.\n",
    "\n",
    "\n",
    "**Key Takeaways:**\n",
    "- 1df.describe()1 gives you an overview of your numeric data, helping you understand things like averages (mean), the spread (standard deviation), and extreme values (min, max).\n",
    "- Streamflow data:\n",
    "   - Most of the streamflow data is concentrated between 130 cfs and 15,900 cfs.\n",
    "   - The average streamflow is 872 cfs, but there is a lot of variation, with the highest values being much larger.\n",
    "- This summary helps identify trends, outliers, and how spread out the data is.  For example, if you're analyzing streamflow over time, knowing the median, average, and variation helps you understand typical conditions vs. extreme events.\n",
    "- The summary statistics generated by df.describe() are very useful for getting a sense of your data’s distribution and variation. They help you quickly see the range of values (min, max), the typical value (mean, median), and how much the data varies (standard deviation)."
   ]
  },
  {
   "cell_type": "markdown",
   "id": "3af54dbd-b5f0-4081-9b5c-7d53094c3908",
   "metadata": {},
   "source": [
    "## Checking for Missing Values"
   ]
  },
  {
   "cell_type": "markdown",
   "id": "b443a6e9-86ad-44af-8f44-471f110ea03e",
   "metadata": {},
   "source": [
    "Look for missing values in the dataframe, which explains why `print(df.index)` results in `freq=None` and not `freq=D` which would be daily data (which we know we have)."
   ]
  },
  {
   "cell_type": "code",
   "execution_count": 14,
   "id": "274e244f-832d-4afe-a013-a439253560c2",
   "metadata": {},
   "outputs": [
    {
     "name": "stdout",
     "output_type": "stream",
     "text": [
      "agency_cd                  0\n",
      "site_no                    0\n",
      "99708_00060_00003       3289\n",
      "99708_00060_00003_cd    3289\n",
      "dtype: int64\n"
     ]
    }
   ],
   "source": [
    "# Check for missing values in each column\n",
    "null_values = df.isnull()\n",
    "\n",
    "# Sum the number of missing values per column\n",
    "missing_values_count = null_values.sum()\n",
    "\n",
    "# Display the count of missing values\n",
    "print(missing_values_count)"
   ]
  },
  {
   "cell_type": "markdown",
   "id": "9fb933a4-f0ff-49a1-a72c-c652a6960401",
   "metadata": {},
   "source": [
    "There are 3289 days with missing data.  This can create gaps in your visualizations and may affect statistical analysis.  We'll ignor this for now, but you can decide to leave the missing values, remove the missing rows, or fill the missing values, depending on the importance of the missing data and the type of analysis or visualization you need."
   ]
  },
  {
   "cell_type": "markdown",
   "id": "99e3b0b0-f0e2-4e8e-91b5-8d6527488189",
   "metadata": {},
   "source": [
    "## Plotting the Data"
   ]
  },
  {
   "cell_type": "markdown",
   "id": "cc2520e9-d57a-442e-ba01-f04e993f0075",
   "metadata": {},
   "source": [
    "Using matplotlib we can create a simple line plot for a hydrograph to visualize the mean daily streamflow over time.  And sure enough, you can see that there are missing data towards the beginning of the streamflow record."
   ]
  },
  {
   "cell_type": "code",
   "execution_count": 15,
   "id": "a39977cd-d067-47e1-9771-c825e167b9fe",
   "metadata": {},
   "outputs": [
    {
     "data": {
      "image/png": "[encoded data removed]",
      "text/plain": [
       "<Figure size 1200x600 with 1 Axes>"
      ]
     },
     "metadata": {},
     "output_type": "display_data"
    }
   ],
   "source": [
    "# Extract the streamflow data for clarity \n",
    "# and assign it to a variable called streamflow\n",
    "streamflow = df['99708_00060_00003']\n",
    "\n",
    "# Create a line plot of mean daily streamflow\n",
    "plt.figure(figsize=(12, 6))  # Set the figure size\n",
    "\n",
    "# Plot the data\n",
    "plt.plot(streamflow.index, streamflow, label='Embudo Streamflow (cfs)')\n",
    "\n",
    "# Add title and labels\n",
    "plt.title('Rio Grande at Embudo, NM - 08279500')\n",
    "plt.xlabel('Date')\n",
    "plt.ylabel('Mean Daily Streamflow (cfs)')\n",
    "\n",
    "# Show legend\n",
    "# plt.legend()\n",
    "\n",
    "# Display the plot\n",
    "plt.show()"
   ]
  },
  {
   "cell_type": "markdown",
   "id": "895401de-53a0-4c71-99c8-0a57b851e348",
   "metadata": {},
   "source": [
    "You can see the missing data we discovered using `df.describe()` when we plot the data.  There are 3289 missing days, which is around 9 years.<br>Notice that the gap occurs after the largest flood in the record.  Maybe the gage was damaged? <br>Or perhaps funding issues limited the personnel and resources available for maintaining the gage network?"
   ]
  },
  {
   "cell_type": "markdown",
   "id": "2cb6b8b6-b7e4-4564-9ac2-41f000869569",
   "metadata": {},
   "source": [
    "## Additional Resources"
   ]
  },
  {
   "cell_type": "markdown",
   "id": "07f50bfe-0baf-4b3d-8d68-e812e7830daa",
   "metadata": {},
   "source": [
    "To learn more, you may want to refer to the official documentation for the key tools we used.\n",
    "- [Pandas Documentation](https://pandas.pydata.org/docs/)\n",
    "- [Matplotlib Documentation](https://matplotlib.org/stable/contents.html)"
   ]
  }
 ],
 "metadata": {
  "kernelspec": {
   "display_name": "Python 3 (ipykernel)",
   "language": "python",
   "name": "python3"
  },
  "language_info": {
   "codemirror_mode": {
    "name": "ipython",
    "version": 3
   },
   "file_extension": ".py",
   "mimetype": "text/x-python",
   "name": "python",
   "nbconvert_exporter": "python",
   "pygments_lexer": "ipython3",
   "version": "3.12.8"
  }
 },
 "nbformat": 4,
 "nbformat_minor": 5
}
