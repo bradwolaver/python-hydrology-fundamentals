{
 "cells": [
  {
   "cell_type": "markdown",
   "id": "a0321c56-88c2-474b-a464-d1b93ba4614f",
   "metadata": {},
   "source": [
    "# Introduction to Python for Hydrology\n",
    "## Session 1: Getting Started with Python and Jupyter Notebook"
   ]
  },
  {
   "cell_type": "markdown",
   "id": "ca2b45b7-8166-4230-82fc-c68344fb16db",
   "metadata": {},
   "source": [
    "Prepared by Brad Wolaver<br>\n",
    "New Mexico Office of the State Engineer, Hydrology Bureau, Santa Fe, NM<br>\n",
    "September 19, 2024 (Updated December 31, 2024)"
   ]
  },
  {
   "cell_type": "markdown",
   "id": "f6c7fec2-8556-46df-8b9e-3bac14fc30c3",
   "metadata": {},
   "source": [
    "## Please Install Anaconda Before Starting this Session\n",
    "- Go to [anaconda.com/download](https://www.anaconda.com/download) and type in your email to access the download web page (see below).\n",
    "- Click on the “Download” button for the Windows 64-bit installer (see below).\n",
    "\n",
    "<u>**Please see Session 1 in the Training Manual for Complete Instructions for installing Anaconda**<u/>"
   ]
  },
  {
   "cell_type": "markdown",
   "id": "31e42b9b-00c4-4d39-9b6d-8aa900ba3276",
   "metadata": {},
   "source": [
    "## Objective\n",
    "Learn to install Anaconda and launch Jupyter Notebook for Python programming.\n",
    "- **Have a look around Jupyter Notebook**\n",
    "  - File Browser, Running Terminals and Kernels, Table of Contents, Extension Manager\n",
    "  - Tabs\n",
    "  - Cells: Markdown vs. Code, Running a Cell\n",
    "  - Buttons\n",
    "- **Using Markdown**\n",
    "  - Headings\n",
    "  - Bold and *italic text*\n",
    "  - Bullet and numbered lists\n",
    "  - Inserting links and images\n",
    "  - Inline code and code blocks\n",
    "  - Markdown Keyboard Shortcuts\n",
    "- **Using AI tools to help generate code and understand what it means**\n",
    "  - Copilot in Windows (preview)\n",
    "  - Prompts\n",
    "  - Generating code"
   ]
  },
  {
   "cell_type": "markdown",
   "id": "104c78d2-dca7-46ca-94a2-27ec999397b9",
   "metadata": {},
   "source": [
    "## Python Commands/Libraries Used\n",
    "- Anaconda Prompt\n",
    "- Jupyter Notebook"
   ]
  },
  {
   "cell_type": "markdown",
   "id": "dff37dad-e8b0-4a3d-9452-e2e0da5b16fc",
   "metadata": {},
   "source": [
    "## Expected Outcome\n",
    "- Understand how to install Anaconda and launch Jupyter Notebook."
   ]
  },
  {
   "cell_type": "markdown",
   "id": "414550e8-cfd4-41d8-973c-746a59016acf",
   "metadata": {},
   "source": [
    "## Steps\n",
    "1.\tInstall Anaconda.\n",
    "2.\tNavigate between directories using cd in the Anaconda Prompt command window\n",
    "3.\tLaunch Jupyter Notebook via Anaconda Prompt.\n",
    "4.\tHave a look around Jupyter Lab and open a Jupyter Notebook.\n",
    "5.\tInteracting with a Jupyter Notebook.\n",
    "6.\tDemo AI tool to write some simple Python code.\n"
   ]
  },
  {
   "cell_type": "markdown",
   "id": "e0f63c9f-1d9c-4de0-90bd-ebf9984cf60c",
   "metadata": {},
   "source": [
    "## What is Anaconda?\n",
    "The Anaconda distribution of Python is a popular open-source distribution of Python that facilitates the installation of Python.  Anaconda comes with many of the most important libraries and tools used for working with data, so you don’t have to install them manually:\n",
    "- Pandas (data manipulation)\n",
    "- NumPy (numerical computing)\n",
    "- Matplotlib (data visualization)\n",
    "- SciPy (scientific computing)\n",
    "- Jupyter Notebook (interactive programming)"
   ]
  },
  {
   "cell_type": "markdown",
   "id": "e690d3e2-f959-4c0c-9ff3-29185fc59e24",
   "metadata": {},
   "source": [
    "## Cells: Select Markdown with `esc + m` and Code with `esc + c` (or use the dropdown menu)"
   ]
  },
  {
   "cell_type": "markdown",
   "id": "dba670f1-d434-475f-9150-1b77805c8124",
   "metadata": {},
   "source": [
    "This text is in a Markdown cell."
   ]
  },
  {
   "cell_type": "code",
   "execution_count": 1,
   "id": "609a9d30-fac1-4855-85b4-b401ccdac216",
   "metadata": {},
   "outputs": [],
   "source": [
    "# This comment is in a Code cell.\n",
    "#\n",
    "# Comments are preceded by hash tag (#)"
   ]
  },
  {
   "cell_type": "code",
   "execution_count": 2,
   "id": "69e59cd1-6193-42af-b455-c4a5666de407",
   "metadata": {},
   "outputs": [],
   "source": [
    "# If you'd like to take a look at the syntax needed to create Markdown, double-click the text in the Markdown cells below"
   ]
  },
  {
   "cell_type": "markdown",
   "id": "955330e3-4b2a-4bcf-8e93-0e31dea71f13",
   "metadata": {},
   "source": [
    "### Heading levels done with \\#"
   ]
  },
  {
   "cell_type": "markdown",
   "id": "21332c84-8fd4-40c4-89a3-05d756fc55ea",
   "metadata": {},
   "source": [
    "# Heading 1"
   ]
  },
  {
   "cell_type": "markdown",
   "id": "85a4b142-93a0-40df-9a4f-8186c3a05f59",
   "metadata": {},
   "source": [
    "## Heading 2"
   ]
  },
  {
   "cell_type": "markdown",
   "id": "6a43057a-1ac6-4643-acc9-8fd2aa7694f4",
   "metadata": {},
   "source": [
    "### Heading 3"
   ]
  },
  {
   "cell_type": "markdown",
   "id": "2b32a963-9c76-42c8-9e6c-236b4f83a66d",
   "metadata": {},
   "source": [
    "#### Heading 4"
   ]
  },
  {
   "cell_type": "markdown",
   "id": "4f8325e5-5d74-4155-becf-1556130c698b",
   "metadata": {},
   "source": [
    "##### Heading 5"
   ]
  },
  {
   "cell_type": "markdown",
   "id": "2d739678-d29f-43c1-a22f-7a4e31f22a26",
   "metadata": {},
   "source": [
    "###### Heading 6"
   ]
  },
  {
   "cell_type": "markdown",
   "id": "727c1207-1d0e-4e20-85eb-23edbc5001f6",
   "metadata": {},
   "source": [
    "####### Heading 7 (6 headings is the limit!)"
   ]
  },
  {
   "cell_type": "markdown",
   "id": "4d492ee9-a3ee-44a2-b702-ffc8fbf68ec7",
   "metadata": {},
   "source": [
    "## Bold and Italic Text"
   ]
  },
  {
   "cell_type": "markdown",
   "id": "61c9d41d-2520-4a89-a843-160eb710724c",
   "metadata": {},
   "source": [
    "Make **Text Bold** by surrounding it with **"
   ]
  },
  {
   "cell_type": "markdown",
   "id": "54250105-7ed2-481a-a32d-9e7d6ad3b222",
   "metadata": {},
   "source": [
    "If you'd like your *text in italics*, just use 1 *"
   ]
  },
  {
   "cell_type": "markdown",
   "id": "5ffddd71-3a5e-4aca-9cf3-16733cd660d8",
   "metadata": {},
   "source": [
    "You can also get fancy and ***make your text bold AND italic*** using 3 *"
   ]
  },
  {
   "cell_type": "markdown",
   "id": "e6319ef5-c184-4cf4-a674-6dbf7b18c5ba",
   "metadata": {},
   "source": [
    "## Bullet and Numbered Lists"
   ]
  },
  {
   "cell_type": "markdown",
   "id": "a2d80bee-e882-4786-82fc-7ea2c19149aa",
   "metadata": {},
   "source": [
    "Make a bullet list starting line with -"
   ]
  },
  {
   "cell_type": "markdown",
   "id": "4949b206-4bea-4f6f-beaa-31e7c22c4f5e",
   "metadata": {},
   "source": [
    "To Do:\n",
    "- Plan day\n",
    "- Do work\n",
    "- Lunch..."
   ]
  },
  {
   "cell_type": "markdown",
   "id": "3284b322-6f4e-4c1c-9b09-66b4434ffec6",
   "metadata": {},
   "source": [
    "Make a numbered list starting line with 1., 2., etc."
   ]
  },
  {
   "cell_type": "markdown",
   "id": "9cb65d2c-a063-4c97-8888-850ecf9a5dd4",
   "metadata": {},
   "source": [
    "Today:\n",
    "1. Take out trash\n",
    "2. Breakfast\n",
    "3. Walk dogs..."
   ]
  },
  {
   "cell_type": "markdown",
   "id": "2e87f445-a1d4-4826-b456-28c53eb54ee2",
   "metadata": {},
   "source": [
    "## Inserting Links and Images"
   ]
  },
  {
   "cell_type": "markdown",
   "id": "e1a8fb02-55e2-4b3a-b039-9eca23b247fa",
   "metadata": {},
   "source": [
    "#### Links"
   ]
  },
  {
   "cell_type": "markdown",
   "id": "85e26fc9-a236-4bb9-a9fb-fb0dcb136f24",
   "metadata": {},
   "source": [
    "Use: `[Link Text](URL)` <br>\n",
    "The URL must start with `http://` or `https://` to open."
   ]
  },
  {
   "cell_type": "markdown",
   "id": "06aae4ee-c8ef-4819-b8e7-81ad6ff78283",
   "metadata": {},
   "source": [
    "Take a look at the [OSE webpage](http://www.ose.nm.gov)."
   ]
  },
  {
   "cell_type": "markdown",
   "id": "fa16d714-a4a8-4ecb-ae98-f159ce5ef60b",
   "metadata": {},
   "source": [
    "#### Images stored locally"
   ]
  },
  {
   "cell_type": "markdown",
   "id": "08a78e11-5eca-4f33-ad27-a158cac83c6f",
   "metadata": {},
   "source": [
    "Use: `![Alt Text](./image.png)`"
   ]
  },
  {
   "cell_type": "markdown",
   "id": "3f583906-fcf1-4644-b9ca-4a085126d788",
   "metadata": {},
   "source": [
    "Check out the OSE's logo: ![logo](./ose-logo.png)"
   ]
  },
  {
   "cell_type": "markdown",
   "id": "caa6a403-b95e-418f-a08b-f6b2903ed335",
   "metadata": {},
   "source": [
    "#### Inline Code"
   ]
  },
  {
   "cell_type": "markdown",
   "id": "61ae90eb-1271-44f7-89b1-3fe570993151",
   "metadata": {},
   "source": [
    "To show that `text is code`, surround the text with backticks ` (same key as ~)"
   ]
  },
  {
   "cell_type": "markdown",
   "id": "201ae74c-31e7-4fe8-bace-c0dc175f160f",
   "metadata": {},
   "source": [
    "#### Essential Markdown Keyboard Shortcuts\n",
    "`Esc + m` — Change a cell to Markdown.\n",
    "\n",
    "`Esc + y` — Change a cell to Code.\n",
    "\n",
    "`Shift + Enter` — Run the current cell and move to the next one.\n",
    "\n",
    "`a` — Insert a new cell above.\n",
    "\n",
    "`b` — Insert a new cell below.\n",
    "\n",
    "`Ctrl + Enter` — Run the current cell without moving to the next one"
   ]
  },
  {
   "cell_type": "markdown",
   "id": "f11bf893-c61f-4a38-b178-be61ed954fe8",
   "metadata": {},
   "source": [
    "## Using AI Tools to Help Generate Code and Understand What the Code Means "
   ]
  },
  {
   "cell_type": "markdown",
   "id": "298d397f-d6e4-4a01-836f-01469a9f33d7",
   "metadata": {},
   "source": [
    "#### We'll be using Microsoft Copilot ![copilot button](./copilot-button.png) but first let's talk about AI tools and how to interact with them"
   ]
  },
  {
   "cell_type": "markdown",
   "id": "bef17cf8-cb4f-4f6e-a68d-a94c132a859c",
   "metadata": {},
   "source": [
    "- A **prompt** is the information you submit to an AI tool (text, image, pdf)"
   ]
  },
  {
   "cell_type": "markdown",
   "id": "02d6e325-e6fd-4640-9a8b-e39cdcf4760b",
   "metadata": {},
   "source": [
    "#### Prompt Engineering"
   ]
  },
  {
   "cell_type": "markdown",
   "id": "64cd6cda-c02b-4416-9a38-c69c29135046",
   "metadata": {},
   "source": [
    "**Try including in your prompt:**\n",
    "  1. What role you would like the AI tool to play, (e.g., world-class poet, highly regarded technical writer, experienced Python coder, university professor who gets outstanding reviews from their professor--or a combination)\n",
    "  2. A bit about yourself,\n",
    "  3. What you want done and how you want the response,\n",
    "  5. Ask if it understands your question, and\n",
    "  6. Tell it to take its time thinking before it replies.\n",
    "<br><br>"
   ]
  },
  {
   "cell_type": "markdown",
   "id": "4085a3a6-a944-4399-baee-4de366a153a0",
   "metadata": {},
   "source": [
    "**Example:**\n",
    "\n",
    "1. For this session, I would like you to assume the role of a university professor who receives outstanding reviews from their students as an excellent teacher who breaks down complex concepts into easily understandable answers.  You are also a seasoned programmer who over the course of their career has specialized in python.\n",
    "\n",
    "2. I am a total beginner in Python.  Assume that I may have some coding experience, but I have not used it in many years and may have forgotten much of what I learned.  Or I may have never coded in my life.\n",
    "\n",
    "3. For your responses to all my questions today, please provide step-by-step explanations of the code you generate and tell me explicitly what each Python library or function does.  It’s ok to provide a lot of detail in your responses.  Please also extensively comment any code that you generate so that a very junior programmer would understand exactly what each part of the program is doing.  Please also provide all the code you generate in one code block and provide a similar level of details in the code's comments.\n",
    "\n",
    "4. Do you understand what I'm asking?\n",
    "\n",
    "5. If so, please take your time thinking before you provide your response.  If you don't understand what I'm asking, please ask clarifying questions.\n",
    "<br><br>"
   ]
  },
  {
   "cell_type": "markdown",
   "id": "3fb92fa3-e5bb-47e5-a034-51567061769e",
   "metadata": {},
   "source": [
    "**You can also ask an AI tool to improve your prompt**\n",
    "\n",
    "Please improve this prompt to improve its prompt engineering.  Thanks!\n",
    "\n",
    "*Include here text from the Example above...*\n",
    "<br><br>"
   ]
  },
  {
   "cell_type": "markdown",
   "id": "f34510a4-d5ce-4da9-9eb7-f86c07d888ff",
   "metadata": {},
   "source": [
    "\n",
    "<u>**Response from Anthropic's Claude 3.5 Sonnet**</u>\n",
    "\n",
    "**1. Role Definition**\n",
    "\n",
    "Please assume the role of a Python Programming Professor with:\n",
    "- 20+ years of teaching experience at top universities\n",
    "- Specialization in teaching Python to beginners\n",
    "- Multiple 'Teacher of the Year' awards for making complex concepts accessible\n",
    "- Industry experience as a senior Python developer\n",
    "- Published author of Python textbooks for beginners\n",
    "\n",
    "Please maintain this expertise and teaching style throughout our entire conversation.\n",
    "\n",
    "**2. User Context Setting**\n",
    "\n",
    "I am approaching Python as a beginner and need you to:\n",
    "- Avoid assuming any prior programming knowledge\n",
    "- Explain all technical terms when they're first introduced\n",
    "- Use real-world analogies to explain programming concepts\n",
    "- Confirm my understanding before moving to more complex topics\n",
    "- Provide practice exercises when introducing new concepts\n",
    "\n",
    "**3. Output Format Specification**\n",
    "\n",
    "- 🎯 Concept Overview: Begin with a simple explanation of what we're trying to achieve\n",
    "- 📚 Required Knowledge: List any prerequisites or concepts I should understand first\n",
    "- 🔍 Step-by-Step Breakdown: Detailed explanation of each component\n",
    "- 💻 Fully Commented Code: Include a complete code block with beginner-friendly comments\n",
    "- 🔄 Working Example: Provide a practical example with expected output\n",
    "- ❓ Understanding Check: Include 1-2 simple questions to verify my comprehension\n",
    "- 📝 Practice Suggestion: Offer a small exercise to reinforce the learning\n",
    "\n",
    "**4. Additional Improvements**\n",
    "\n",
    "- Error Handling: \"Please explain common mistakes beginners might make and how to fix them\"\n",
    "- Learning Path: \"Indicate where this concept fits in the larger Python learning journey\"\n",
    "- Best Practices: \"Highlight Python best practices and coding conventions\"\n",
    "- Mental Models: \"Use visual explanations or analogies when helpful\"\n",
    "- Feedback Loop: \"Check my understanding periodically and adjust explanations accordingly\"\n",
    "<br><br>"
   ]
  },
  {
   "cell_type": "markdown",
   "id": "4fc194f5-ffd3-498f-a3e7-3e95a5320fe4",
   "metadata": {},
   "source": [
    "<u>**After thanking it for this response, Anthropic's Claude 3.5 Sonnet continues...**</u>\n",
    "\n",
    "You're welcome! The improvements I suggested make the prompt more:\n",
    "\n",
    "1. **Specific and Measurable**: By adding concrete details about the professor's experience (20+ years, awards, etc.), we get more consistent and authoritative responses.\n",
    "\n",
    "2. **Structured and Organized**: The new format with clear emoji-labeled sections (🎯 Concept Overview, 📚 Required Knowledge, etc.) makes responses more predictable and easier to follow.\n",
    "\n",
    "3. **Interactive and Engaging**: By adding understanding checks and practice suggestions, we turn it from a passive learning experience into an active one.\n",
    "\n",
    "4. **Comprehensive**: The additional elements like error handling, learning path context, and best practices ensure no important learning aspects are missed.\n",
    "\n",
    "Some key benefits of these improvements:\n",
    "\n",
    "- Better consistency in responses\n",
    "- Clearer learning progression\n",
    "- More engaging learning experience\n",
    "- Easier to track understanding\n",
    "- More practical and applicable knowledge transfer\n",
    "\n",
    "Would you like me to create an example response using this improved format for a specific Python concept, so you can see how it works in practice?\n",
    "<br><br>"
   ]
  },
  {
   "cell_type": "markdown",
   "id": "7b2ed093-f647-49db-b9d2-8adafea7c6ee",
   "metadata": {},
   "source": [
    "<u>**Response from OpenAI's GPT-4o**</u>\n",
    "\n",
    "Assume the role of an esteemed university professor who is renowned for their ability to simplify complex concepts into clear and relatable explanations. Your expertise as a seasoned Python programmer, honed over years of professional experience, further enhances your teaching methods.\n",
    "\n",
    "**Context About Me:**\n",
    "\n",
    "- I'm either a complete beginner in Python or have some past coding experience that I've largely forgotten over time.\n",
    "\n",
    "**Your Task:**\n",
    "\n",
    "- Provide step-by-step explanations for any code you generate, detailing what each piece of the code and its associated Python libraries or functions do.\n",
    "- Ensure your explanations are thorough, allowing even someone with basic coding understanding to grasp the concepts fully.\n",
    "- Include extensive comments within the code to make every part of the program understandable to a novice.\n",
    "\n",
    "**Formatting:**\n",
    "\n",
    "- Present all generated code within a single code block.\n",
    "- Maintain the same high level of detail in the comments within the code.\n",
    "\n",
    "**Communication:**\n",
    "\n",
    "- Confirm your understanding of my requests before proceeding with any responses. If anything is unclear, please ask for further clarification.\n",
    "- Take your time to thoughtfully consider your responses to ensure clarity and completeness.\n",
    "- Do you understand these instructions? Ask any questions if something is unclear.\n",
    "<br><br>"
   ]
  },
  {
   "cell_type": "markdown",
   "id": "e335d7c2-f8b6-4574-b9e3-b2a12d4f4cf9",
   "metadata": {},
   "source": [
    "<u>**After thanking it for this response, OpenAI's GPT-4o continues...**</u>\n",
    "\n",
    "You're welcome! I'm glad you found the explanation helpful. If you have any more questions or need further assistance with Python or any other topics, feel free to ask. Happy coding!\n",
    "<br><br>"
   ]
  },
  {
   "cell_type": "markdown",
   "id": "34e9c997-3b76-4ab2-8978-88c9ade65ddc",
   "metadata": {},
   "source": [
    "<u>**As you can see, the response you get to a prompt depends on the AI tool you use!**</u>\n",
    "\n",
    "Try using a variety of AI Tools and see how responses vary.\n",
    "<br><br>"
   ]
  },
  {
   "cell_type": "markdown",
   "id": "2875c4bb-dbfa-4cc0-bedd-187862e81b35",
   "metadata": {},
   "source": [
    "#### Using Microsoft Copilot to Create and Refine Code"
   ]
  },
  {
   "cell_type": "markdown",
   "id": "4370d24c-8f9e-4a60-aa87-b99450027440",
   "metadata": {},
   "source": [
    "#### Hello World"
   ]
  },
  {
   "cell_type": "markdown",
   "id": "102597d3-5a16-4a0d-b09b-0b4722995119",
   "metadata": {},
   "source": [
    "How do I run the classic Hello World code?"
   ]
  },
  {
   "cell_type": "code",
   "execution_count": 3,
   "id": "fb974d13-b64b-498b-a967-7f46c5f777e2",
   "metadata": {},
   "outputs": [
    {
     "name": "stdout",
     "output_type": "stream",
     "text": [
      "Hello, World!\n"
     ]
    }
   ],
   "source": [
    "# This is a comment. Comments are ignored by the Python interpreter.\n",
    "# They are used to explain the code and make it more readable.\n",
    "\n",
    "# The print() function is used to output text to the screen.\n",
    "# In this case, it will print the string \"Hello, World!\".\n",
    "print(\"Hello, World!\")"
   ]
  },
  {
   "cell_type": "markdown",
   "id": "af6b89e4-9598-4965-b6e7-7612b04d8c01",
   "metadata": {},
   "source": [
    "#### What's your name"
   ]
  },
  {
   "cell_type": "markdown",
   "id": "e98269ae-6c2a-4679-9aad-f00f9786f545",
   "metadata": {},
   "source": [
    "Show me the Python code to ask my name, then say Hello Name"
   ]
  },
  {
   "cell_type": "code",
   "execution_count": 4,
   "id": "587b983c-c55d-49dd-a5de-14ef26f0c2ab",
   "metadata": {},
   "outputs": [
    {
     "name": "stdin",
     "output_type": "stream",
     "text": [
      "What is your name?  Brad\n"
     ]
    },
    {
     "name": "stdout",
     "output_type": "stream",
     "text": [
      "Hello, Brad!\n"
     ]
    }
   ],
   "source": [
    "# Ask the user for their name using the input() function.\n",
    "# The input() function displays the prompt and waits for the user to type something and press Enter.\n",
    "name = input(\"What is your name? \")  # The user's input is stored in the variable 'name'.\n",
    "\n",
    "# Use the print() function to display a greeting.\n",
    "# We concatenate the string \"Hello, \" with the user's name and an exclamation mark.\n",
    "print(\"Hello, \" + name + \"!\")  # This line prints 'Hello, [Name]!' to the console."
   ]
  },
  {
   "cell_type": "markdown",
   "id": "f854f51d-ef72-4dff-bb8d-f4db85379e93",
   "metadata": {},
   "source": [
    "#### Take a look at importing data..."
   ]
  },
  {
   "cell_type": "markdown",
   "id": "da3e841b-27e1-4bfd-900d-d28e0f174435",
   "metadata": {},
   "source": [
    "I have a text file.  Show me the code to import the text file into python."
   ]
  },
  {
   "cell_type": "code",
   "execution_count": 6,
   "id": "6a893483-11e2-43cb-977d-8179403f89fd",
   "metadata": {},
   "outputs": [
    {
     "name": "stdout",
     "output_type": "stream",
     "text": [
      "Welcome to Python!\n"
     ]
    }
   ],
   "source": [
    "# Open the file in read mode ('r').\n",
    "# Replace 'your_file.txt' with the path to your text file.\n",
    "file = open('readme.txt', 'r')  # The 'r' mode opens the file for reading.\n",
    "\n",
    "# Read the contents of the file.\n",
    "# The read() method reads the entire contents of the file and returns it as a string.\n",
    "file_contents = file.read()  # Store the contents of the file in the variable 'file_contents'.\n",
    "\n",
    "# Print the contents of the file to the console.\n",
    "print(file_contents)  # This line prints the contents of the file.\n",
    "\n",
    "# Close the file.\n",
    "# It's important to close the file to free up system resources.\n",
    "file.close()  # This line closes the file."
   ]
  },
  {
   "cell_type": "markdown",
   "id": "34f4464d-de3b-461e-8fef-aca6aa7ad33d",
   "metadata": {},
   "source": [
    "What’s a simpler way to do this?  I’ve read that read_csv also works.  Show me how to do it using read_csv. "
   ]
  },
  {
   "cell_type": "code",
   "execution_count": 8,
   "id": "3877569c-7488-43f5-8444-9540578e3dad",
   "metadata": {},
   "outputs": [
    {
     "name": "stdout",
     "output_type": "stream",
     "text": [
      "Empty DataFrame\n",
      "Columns: [This, is, a , test, .]\n",
      "Index: []\n"
     ]
    }
   ],
   "source": [
    "# Import the pandas library.\n",
    "import pandas as pd  # 'pd' is a common alias for pandas.\n",
    "\n",
    "# Use the read_csv() function to read the file into a DataFrame.\n",
    "# Replace 'your_file.csv' with the path to your CSV file.\n",
    "df = pd.read_csv('test.csv')  # 'df' stands for DataFrame.\n",
    "\n",
    "# Print the contents of the DataFrame to the console.\n",
    "print(df)  # This line prints the DataFrame, which contains the data from the CSV file."
   ]
  },
  {
   "cell_type": "markdown",
   "id": "ef0f09e5-812e-4178-a437-b1ada7689593",
   "metadata": {},
   "source": [
    "- To learn more about the `pandas` library, [see the pandas documentation](https://pandas.pydata.org/docs/index.html).\n",
    "- To understand more about `panadas.read_csv()`, [see the documentation](https://pandas.pydata.org/docs/reference/api/pandas.read_csv.html).\n",
    "- I also like to google a function like `pd.read_csv()` (note that the code `import pandas as pd` allows you refer to `pandas` as `pd` in subsequent code).\n",
    "  - [Geeks for Geeks](https://www.geeksforgeeks.org/python-read-csv-using-pandas-read_csv/) tends to have some easily understandable explanations with code.\n",
    "  - I've also found [W3Schools](https://www.w3schools.com/python/pandas/pandas_csv.asp) to have some really clean explanations on functions.\n",
    "  - Finally, [DataCamp](https://www.datacamp.com/tutorial/pandas-read-csv) has a really nice tutorial on loading data, which we will cover in Session 2, and [good  tutorials on other Python subject](https://www.datacamp.com/tutorial/category/python).\n"
   ]
  }
 ],
 "metadata": {
  "kernelspec": {
   "display_name": "Python 3 (ipykernel)",
   "language": "python",
   "name": "python3"
  },
  "language_info": {
   "codemirror_mode": {
    "name": "ipython",
    "version": 3
   },
   "file_extension": ".py",
   "mimetype": "text/x-python",
   "name": "python",
   "nbconvert_exporter": "python",
   "pygments_lexer": "ipython3",
   "version": "3.12.8"
  }
 },
 "nbformat": 4,
 "nbformat_minor": 5
}
