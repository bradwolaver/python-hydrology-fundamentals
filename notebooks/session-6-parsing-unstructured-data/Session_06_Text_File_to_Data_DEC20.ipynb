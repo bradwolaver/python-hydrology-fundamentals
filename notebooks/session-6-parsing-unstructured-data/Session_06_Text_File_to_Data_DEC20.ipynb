{
 "cells": [
  {
   "cell_type": "markdown",
   "metadata": {},
   "source": [
    "## Introduction to Python for Hydrology\n",
    "## Session 6: Parsing Fortran Text Output Files into Python Data Structures"
   ]
  },
  {
   "cell_type": "markdown",
   "metadata": {},
   "source": [
    "## Prepared by Brad Wolaver\n",
    "New Mexico Office of the State Engineer, Hydrology Bureau, Santa Fe, NM<br>\n",
    "December 20, 2024 (Updated January 3, 2025)"
   ]
  },
  {
   "cell_type": "markdown",
   "metadata": {},
   "source": [
    "## First, Some Background on Parsing Text Files"
   ]
  },
  {
   "cell_type": "markdown",
   "metadata": {},
   "source": [
    "**What is parsing?** <br>\n",
    "\"Parsing data in Python involves breaking down a given text or file into smaller parts that can be easily analyzed and manipulated.  This process is essential in many applications, such as web scraping, data analysis, and natural language processing [from source #1 below]\".\n",
    "<br>\n",
    "<br>\n",
    "**In other words:** <br>\n",
    "Parsing is like taking a messy file, reading it, breaking it into pieces, and organizing it into a format you can work with.\n",
    "<br>\n",
    "<br>\n",
    "**The Good, Bad, and Ugly of Fortran-Generated Text Files:**\n",
    "1. **Bad:** Fortran formatting is rigid and unforgiving.  If you get spacing or patterns incorrect, the program can struggle to parse your files.\n",
    "2. **Good:** Fortran formatting is consistent and predictable. If you use this attribute to your advantage, it can make parsing data easier.\n",
    "<br>\n",
    "<br>\n",
    "\n",
    "**A note on Regular Expressions (RegEx):** <br>\n",
    "- As we'll see while regular expressions are powerful tools for pattern matching and text manipulation.\n",
    "- But they can often become difficult to read, maintain, and debug, especially for complex patterns.\n",
    "- An old friend of mine who's a software developer told me a saying about regular expressions:<br>\n",
    "<t>\"Some people, when confronted with a problem, think <i>'I know, I'll use regular expressions.'</i>  Now they have two problems.\"<br>\n",
    "<br>"
   ]
  },
  {
   "cell_type": "markdown",
   "metadata": {},
   "source": [
    "## Objective\n",
    "**Parse Fortran-Generated Text Files into Python-Compatible Data:** <br>\n",
    "- Learn how to read and process complex text files, transforming the data into usable Python data structures for analysis and visualization.\n",
    "- Specifically, we'll:\n",
    "  - Illustrate text parsing using output files from the OSE's Glover-Balmer program.\n",
    "  - Read in years, depletion rates, and aquifer parameters.\n",
    "  - Calculate and plot net stream depletion and annotate the figure with transmissivity and storativity values.\n",
    "\n",
    "## Expected Outcomes\n",
    "By the end of this session, you should be able to:\n",
    "- **Understand the structure** of Fortran-generated text files and identify key patterns.\n",
    "- **Read a text file** using `open()` and `with`.\n",
    "- **Parse specific data** from the file using basic text parsing techniques, primarily string splitting with `split()`, conditional checks, and using regular expressions (the `re` module uses syntax that can be a little tricky to understand—at least for me!).\n",
    "- **Convert extracted text into numerical data** and store it in Python.\n",
    "- **Flow Control:** In flow control, Boolean values are used for condition evaluation, operators compare values, and statements and loops dictate the execution flow of code based on those conditions.\n",
    "- **Visualize the parsed data** using `matplotlib.pyplot`.  Add annotation to the plot using parsed data (Transmissivity and Storativity).\n",
    "\n",
    "## Python Libraries and Tools Used\n",
    "- **`pandas (pd)`:** For data manipulation and analysis, well-suited for reading and transforming tabular data, such as turning raw text into structured DataFrames.\n",
    "- **Built-in string methods:** Useful for basic text manipulation tasks like splitting, stripping, and replacing string portions when parsing files.\n",
    "- **`re`:** Provides tools for pattern matching and manipulation of strings using regular expressions, allowing users to search, extract, and modify text based on specific patterns.\n",
    "- **`os`:** This module provides functionality to interact with the operating system, such as navigating the file system, reading and writing files, and managing paths. It's useful for handling file operations when automating the parsing of text files.\n",
    "- **`numpy (np)`:** Useful for handling numerical operations and managing arrays, especially when performing calculations on parsed datasets.\n",
    "- **`matplotlib.pyplot (plt)`:** A plotting library used to create various types of charts and graphs, enabling you to visualize parsed data effectively.\n",
    "- **`%matplotlib inline`:** A Jupyter Notebook magic command to display plots within the notebook cells for immediate data visualization.\n",
    "- **`Markdown`** class of **`IPython.display`** allows you to render Mardown-formatted text.  We'll use this to make some of the data printed to console easier to read.  The `HTML` module lets you print text in color.\n",
    "\n",
    "These tools and libraries work together to read, clean, process, and visualize data parsed from legacy Fortran text files, integrating these datasets into your Python workflows efficiently."
   ]
  },
  {
   "cell_type": "markdown",
   "metadata": {},
   "source": [
    "## Sources for this section, and further exploration, include:"
   ]
  },
  {
   "cell_type": "markdown",
   "metadata": {},
   "source": [
    "1. [Parsing Data in Python: A Tutorial for Beginners](https://pieriantraining.com/parsing-data-in-python-a-tutorial-for-beginners/).<br>\n",
    "From the book's webpage:\n",
    "<i>\"Data parsing is a crucial aspect of data processing that involves extracting relevant information from raw data. In the world of programming, data parsing is an essential skill that helps developers to read, manipulate, and transform data in various formats such as JSON, XML, CSV, and HTML.\"</i>\n",
    " \n",
    "3. This e-book book, [<u>Automate the Boring Stuff, by Al Sweigart</u>](https://automatetheboringstuff.com/), has good explanations of:\n",
    "    - [Working with strings](https://automatetheboringstuff.com/2e/chapter6/), \n",
    "    - [Pattern matching with regular expressions](https://automatetheboringstuff.com/2e/chapter7/), and\n",
    "    - [Flow control](https://automatetheboringstuff.com/2e/chapter2/). For example:\n",
    "      - Boolean values: `true` / `false`,\n",
    "      - Comparison operators such as `==`,\n",
    "      - `if` statements,\n",
    "      - `else` statements,\n",
    "      - `elif` statements,\n",
    "      - `while` loops, and\n",
    "      - `break` statements.\n",
    "<br><br>   \n",
    "4. The e-book book [<u>Python Data Science Handbook, 2nd Edition by Jake VanderPlas</u>](https://jakevdp.github.io/PythonDataScienceHandbook/) is a little more advanced. <br>\n",
    "    - Here's [the book's contents as Jupyter Notebooks!](https://github.com/jakevdp/PythonDataScienceHandbook?utm_source=chatgpt.com) and<br>\n",
    "    - A link to the [Chapter 3](https://jakevdp.github.io/PythonDataScienceHandbook/03.10-working-with-strings.html), which has a section on Vectorizing String Operations.\n",
    "<br><br>\n",
    "5. Even more advanced.\n",
    "    - Python for Data Analysis: Data Wrangling with pandas, NumPy & Jupyter</u>.\n",
    "    - You can [find the free e-book here](https://wesmckinney.com/book/).\n",
    "    - The book was recommended to me by Tim Hodson, the lead for the USGS's [dataretrieval](https://doi-usgs.github.io/dataretrieval-python/examples/index.html#) package for streamflow downloads, which—in addition to `Hydrofunctions`—is another tool to automate downloading USGS data\n"
   ]
  },
  {
   "cell_type": "markdown",
   "metadata": {},
   "source": [
    "## Step 0. Activate Environment in Anaconda Prompt Before Running this Jupyter Notebook"
   ]
  },
  {
   "cell_type": "markdown",
   "metadata": {},
   "source": [
    "- In Anaconda Prompt, make sure you have updated the `python_hydro` environment using `environment_update.yml`.- \n",
    "- If you haven't done this yet, see Sessions 3 and 4 for instructions.\n",
    "- Open Anaconda Prompt and change your working directory with `cd <path to working directory>`\n",
    "- Activate environment with `conda activate python_hydro`"
   ]
  },
  {
   "cell_type": "markdown",
   "metadata": {},
   "source": [
    "## Step 1. Install Necessary Libraries"
   ]
  },
  {
   "cell_type": "code",
   "execution_count": 1,
   "metadata": {},
   "outputs": [],
   "source": [
    "# Step 1: Import Necessary Libraries\n",
    "\n",
    "import os  # For interacting with the operating system\n",
    "import matplotlib.pyplot as plt  # For plotting data\n",
    "import pandas as pd  # For data manipulation and analysis\n",
    "import numpy as np  # For numerical operations\n",
    "from IPython.display import Markdown, HTML, display # For displaying markdown-formatted text and HTML\n",
    "from datetime import datetime  # Import datetime to generate timestamps for filenames\n",
    "import re  # The regex library is used to parse using pattern matching\n",
    "\n",
    "# This magic command ensures that plots are displayed within the Jupyter Notebook\n",
    "%matplotlib inline"
   ]
  },
  {
   "cell_type": "markdown",
   "metadata": {},
   "source": [
    "**Using AI Tools to Create and Refine Python Code:**\n",
    "\n",
    "Much of the code in this Session was edited or created using [**OpenAI's GPT-4o Mini model**](https://openai.com/index/gpt-4o-mini-advancing-cost-efficient-intelligence/) using [**TypingMind**](https://www.typingmind.com/).  \n",
    "- **TypingMind** is an AI platform that integrates with APIs for AI tools like GPT-4o (but supports many such models), providing a cost-effective pay-as-you-go solution for interacting with advanced AI tools. It offers a user-friendly interface for a variety of tasks, including code development..\n",
    "- **GPT-4o Mini** is a lightweight AI model from OpenAI designed to handle text-based tasks efficiently, including processing large prompts and generating Python code. It is well suited for tightly defined tasks and is more affordable compared to some models, such as reasoning models.\n",
    "- **Reasoning Models (e.g., GPT-O1 Preview)**: For tasks requiring advanced problem solving or nuanced reasoning, reasoning models like GPT-O1 Preview are ideal but are more expensive.\n",
    "\n",
    "Again, it’s a good idea to read the formal Python documents to understand how to use the tools contained in this and previous sessions."
   ]
  },
  {
   "cell_type": "markdown",
   "metadata": {},
   "source": [
    "## Step 2. Identify Output Files to Process"
   ]
  },
  {
   "cell_type": "markdown",
   "metadata": {},
   "source": [
    "**Explanation:**\n",
    "  \n",
    "**`input()`** Function: Prompt the user to input filenames of the Baseline and Application output files.\n",
    "\n",
    "**Why?**\n",
    "  \n",
    "Inputting names of the Baseline and Application output files makes the code more flexible by allowing the script to process different file names without modifying the code."
   ]
  },
  {
   "cell_type": "code",
   "execution_count": 2,
   "metadata": {},
   "outputs": [
    {
     "name": "stdin",
     "output_type": "stream",
     "text": [
      "\n",
      "Enter baseline output file name (e.g., baseline.out):  Baseline_DIV_gs.out\n",
      "\n",
      "Enter application output file name (e.g., application.out):  Application_DIV_gs.out\n"
     ]
    },
    {
     "name": "stdout",
     "output_type": "stream",
     "text": [
      "\n",
      "Here are the file names you entered:\n",
      "Baseline File: \t\tBaseline_DIV_gs.out\n",
      "Application File: \tApplication_DIV_gs.out\n",
      "\n",
      "Next, we will verify that the files exist in your current working directory\n",
      "\n"
     ]
    }
   ],
   "source": [
    "# Step 2: Identify Output Files to Process\n",
    "\n",
    "# Prompt the user to input the name of the Baseline output file\n",
    "file_baseline = input(\"\\nEnter baseline output file name (i.e., Baseline_DIV_gs.out): \")\n",
    "\n",
    "# Prompt the user to input the name of the Application output file\n",
    "file_application = input(\"\\nEnter application output file name (i.e., Application_DIV_gs.out): \")\n",
    "\n",
    "# Print the entered file names to confirm\n",
    "# Use an f-string to mix strings and variables\n",
    "print(f\"\\nHere are the file names you entered:\\nBaseline File: \\t\\t{file_baseline}\")\n",
    "print(f'Application File: \\t{file_application}\\n\\nNext, we will verify that the files exist in your current working directory\\n')"
   ]
  },
  {
   "cell_type": "markdown",
   "metadata": {},
   "source": [
    "## Step 3: Verify File Existence and Inspect Contents"
   ]
  },
  {
   "cell_type": "markdown",
   "metadata": {},
   "source": [
    "**Objective:**\n",
    "  \n",
    "Check whether the specified Baseline and Application files exist in the current working directory. If they do, print the first few lines to help verify the file structure.\n",
    "\n",
    "**Why This Step?**\n",
    "    \n",
    "Ensuring that the files exist before attempting to read them prevents runtime errors (when the program stops unexpectedly).  Additionally, inspecting the first few lines helps confirm that the files are in the expected format."
   ]
  },
  {
   "cell_type": "markdown",
   "metadata": {},
   "source": [
    "### Step 3A: Get your working directory"
   ]
  },
  {
   "cell_type": "markdown",
   "metadata": {},
   "source": [
    "Use `display` with HTML in conjunction with Markdown to change how output looks and perhaps makes it easier to read."
   ]
  },
  {
   "cell_type": "code",
   "execution_count": 3,
   "metadata": {},
   "outputs": [
    {
     "data": {
      "text/markdown": [
       "**Current Working Directory:** <br>`C:\\Users\\bwolaver\\OneDrive - State of New Mexico\\Documents\\Training\\_Python_Share_w_OSE\\2_Jupyter_Notebooks\\Session_06_Text_File_to_Data`"
      ],
      "text/plain": [
       "<IPython.core.display.Markdown object>"
      ]
     },
     "metadata": {},
     "output_type": "display_data"
    }
   ],
   "source": [
    "# Get the current working directory (cwd)\n",
    "# Define the variable for `current_directory`\n",
    "current_directory = os.getcwd()\n",
    "\n",
    "# Display the current working directory: \n",
    "#  using HTML\n",
    "#  in bold using ** ... **\n",
    "#  with line break <br> tag\n",
    "#  as code using ` ... `\n",
    "display(Markdown(f\"**Current Working Directory:** <br>`{current_directory}`\"))"
   ]
  },
  {
   "cell_type": "markdown",
   "metadata": {},
   "source": [
    "### Step 3B: Create a Path to Baseline and Application Files"
   ]
  },
  {
   "cell_type": "markdown",
   "metadata": {},
   "source": [
    "**Explanation**\n",
    "\n",
    "Combine your current working directory and file names to make paths to both files."
   ]
  },
  {
   "cell_type": "code",
   "execution_count": 4,
   "metadata": {},
   "outputs": [
    {
     "data": {
      "text/markdown": [
       "<span style='font-size: 16px;'><strong>The Baseline file path is:</strong></span><br><span style='font-size: 13px;'>`C:\\Users\\bwolaver\\OneDrive - State of New Mexico\\Documents\\Training\\_Python_Share_w_OSE\\2_Jupyter_Notebooks\\Session_06_Text_File_to_Data\\Baseline_DIV_gs.out`</span>"
      ],
      "text/plain": [
       "<IPython.core.display.Markdown object>"
      ]
     },
     "metadata": {},
     "output_type": "display_data"
    },
    {
     "data": {
      "text/markdown": [
       "<span style='font-size: 16px;'><strong>The Application file path is:</strong></span><br><span style='font-size: 13px;'>`C:\\Users\\bwolaver\\OneDrive - State of New Mexico\\Documents\\Training\\_Python_Share_w_OSE\\2_Jupyter_Notebooks\\Session_06_Text_File_to_Data\\Application_DIV_gs.out`</span>"
      ],
      "text/plain": [
       "<IPython.core.display.Markdown object>"
      ]
     },
     "metadata": {},
     "output_type": "display_data"
    }
   ],
   "source": [
    "# Define full paths to the Baseline and Application files by joining cwd with filenames\n",
    "# os.path.join() is a function from the os module in Python used to combine one or more path components into a single path.\n",
    "# Variables `file_baseline` and `file_application` defined in Step 2\n",
    "# Variable `current_directory` difined above\n",
    "baseline_file_path = os.path.join(current_directory, file_baseline)\n",
    "application_file_path = os.path.join(current_directory, file_application)\n",
    "\n",
    "# Display the Baseline file path with larger font size for the label\n",
    "display(Markdown(f\"<span style='font-size: 16px;'><strong>The Baseline file path is:</strong></span><br><span style='font-size: 13px;'>`{baseline_file_path}`</span>\"))\n",
    "\n",
    "# Display the Application file path with larger font size for the label\n",
    "display(Markdown(f\"<span style='font-size: 16px;'><strong>The Application file path is:</strong></span><br><span style='font-size: 13px;'>`{application_file_path}`</span>\"))"
   ]
  },
  {
   "cell_type": "markdown",
   "metadata": {},
   "source": [
    "### Step 3C: Verify File Existence"
   ]
  },
  {
   "cell_type": "markdown",
   "metadata": {},
   "source": [
    "**Explanation**\n",
    "\n",
    "Create a function `varify_file` that checks if the files specified by the paths exist."
   ]
  },
  {
   "cell_type": "code",
   "execution_count": 5,
   "metadata": {},
   "outputs": [
    {
     "name": "stdout",
     "output_type": "stream",
     "text": [
      "\n",
      "Checking file in this path: \n",
      "C:\\Users\\bwolaver\\OneDrive - State of New Mexico\\Documents\\Training\\_Python_Share_w_OSE\\2_Jupyter_Notebooks\\Session_06_Text_File_to_Data\\Baseline_DIV_gs.out\n",
      "File found.\n",
      "\n",
      "Checking file in this path: \n",
      "C:\\Users\\bwolaver\\OneDrive - State of New Mexico\\Documents\\Training\\_Python_Share_w_OSE\\2_Jupyter_Notebooks\\Session_06_Text_File_to_Data\\Application_DIV_gs.out\n",
      "File found.\n"
     ]
    }
   ],
   "source": [
    "# Step 3: Verify File Existence\n",
    "\n",
    "def verify_file(file_path):\n",
    "    \"\"\"\n",
    "    Checks if the file exists and prints the status.\n",
    "    \n",
    "    Parameters:\n",
    "        file_path (str): The path to the file.\n",
    "    \"\"\"\n",
    "    \n",
    "    # Print that we are checking the file\n",
    "    print(f\"\\nChecking file in this path: \\n{file_path}\")  # Print check message\n",
    "\n",
    "    # Check if the file exists\n",
    "    if os.path.isfile(file_path): # this returns either True or False, depending on whether the file exists.\n",
    "        # If the file exists, print a success message\n",
    "        print(f\"File found.\")\n",
    "        return True  # TRUE: If `if os.path.isfile(file_path) returns True, then print \"FIle found...\" and the function ends.\n",
    "    else:\n",
    "        # Otherwise, `return` returns False\n",
    "        print(f\"Error: File `{file_path}` does not exist.\")  # Optional error message\n",
    "        return False  # FALSE: If `if os.path.isfile(file_path) returns True, then print \"FIle found...\" and the function ends.\n",
    "\n",
    "# Create a List of files to check\n",
    "files_to_check = [baseline_file_path, application_file_path]\n",
    "\n",
    "# Verify each file without displaying individual line contents\n",
    "for file_path in files_to_check: # file_path is a string from files in files_to_check\n",
    "    verify_file(file_path)  # Call the function for verification"
   ]
  },
  {
   "cell_type": "markdown",
   "metadata": {},
   "source": [
    "#### Explanation of `verify_file` Function\n",
    "\n",
    "The `verify_file` function checks if specified files exist (i.e., baseline.out and application.out) by performing the following tasks:\n",
    "\n",
    "1. **File Path Input**:\n",
    "   - The function accepts a single parameter, `file_path`, which is a string representing the path to the file that needs to be verified.\n",
    "<br><br>\n",
    "2. **Checking File Existence**:\n",
    "   - The function prints a message indicating that it is checking the specified file path.\n",
    "   - It uses the `os.path.isfile()` method to determine if the file exists.\n",
    "   - If the file is found, it prints a success message confirming that the file exists. This immediate feedback informs the user about the status of the file check.\n",
    "   - The line `return True` is executed after the success message:\n",
    "     - This indicates that the function successfully found the specified file.\n",
    "     - The `return` statement allows the caller of the function to know the result of the check. It returns control to the part of the program that called the function.\n",
    "     - When `return` is executed, the function ends.\n",
    "   - The order of operations (printing first and then returning) is intentional:\n",
    "     - Printing the message first enhances user experience by providing immediate confirmation.\n",
    "     - This design makes the function user-friendly as it reports the status before it concludes.\n",
    "<br><br>\n",
    "3. **Error Handling**:\n",
    "   - If the file does not exist, the function prints an error message indicating that the specified file could not be found.\n",
    "   - In this case, it returns `False`, informing the caller that the file check was unsuccessful.\n",
    "\n",
    "\n",
    "Summary:\n",
    "The `verify_file` function is designed to check for file existence, providing clear feedback to the user about the status. The function uses `print` to show messages about whether each file is found or not, and then uses `return` to signify success or failure. This allows future code to react to the presence or absence of files accordingly.\n"
   ]
  },
  {
   "cell_type": "markdown",
   "metadata": {},
   "source": [
    "## Step 4: Understand what's done when an entire text file is read (we'll parse the text later)"
   ]
  },
  {
   "cell_type": "markdown",
   "metadata": {},
   "source": [
    "**Explanation**\n",
    "\n",
    "To give you an idea of what opening and reading the files looks like, this code block reads the files and print out first 60 lines of the lists that were created by reading the files.\n",
    "\n",
    "Reading a an entire text file creates one long string, line breaks (`/n`) and all, and saves it in a list (denoted by `[...]`).  \n",
    "\n",
    "After this code block we will do actual parsing of data from the baseline and application files in order to use them in pandas."
   ]
  },
  {
   "cell_type": "code",
   "execution_count": 6,
   "metadata": {},
   "outputs": [
    {
     "name": "stdout",
     "output_type": "stream",
     "text": [
      "\n",
      "BASELINE FILE\n",
      "First 80 lines of the Baseline file:\n",
      "['\\n', '\\n', '                     TIME and DATE\\n', '           month: 12       day: 12      year:  2023\\n', '           hour: 13  minute: 55   second:    15\\n', '\\n', '\\n', '          STREAM DEPLETION CAUSED BY PUMPING MULTIPLE WELLS AT\\n', '          VARIOUS RATES IN AN INFINITE - STRIP, NON - LEAKY AQUIFER.\\n', '          THE WELLS ARE BETWEEN THE STREAM AND A PLANE BOUNDARY.\\n', '\\n', '                       (Glover and Balmer equation)\\n', '\\n', '\\n', '\\n', '               T =   190.  square ft/day               S = 0.001000\\n', '\\n', '\\n', '                           Number of wells =   2\\n', '\\n', '\\n', '\\n', '               Distance from stream to plane boundary = 15.00 miles\\n', '\\n', '\\n', '\\n', '               Distances of the wells from the stream and the\\n', '                               number of pumping rates\\n', '\\n', '          Well #          Distance (miles)      No. of rates\\n', '               1                  10.12                 1\\n', '\\n', '               2                   9.26                 1\\n', '\\n', '\\n', '\\n', '\\n', '                     PUMPING SCHEDULES FOR THE WELLS\\n', '\\n', '                    Pumping schedule for well number  1\\n', '\\n', '                        Pumping rate               Pumping time\\n', '              Q(  1) =  179.7  ac-ft/yr    for    100.000  years\\n', '\\n', '\\n', '\\n', '                    Pumping schedule for well number  2\\n', '\\n', '                        Pumping rate               Pumping time\\n', '              Q(  1) =  179.7  ac-ft/yr    for    100.000  years\\n', '\\n', '\\n', '\\n', '                        Image Control = .10000000E-05\\n', '\\n', '\\n', '                         Time variable (t)  Only 500 timesteps allowed\\n', '\\n', '               t min =   1.000 years;   t max = 100.000 years;\\n', '                         delta t =   1.000  years\\n', '\\n', '\\n', '                                          Accumulated          Depletion\\n', '                         Rate of           Depletion           Volume in\\n', '          Time          Depletion           Volume            Time Period\\n', '         (years)        (ac-ft/yr)        (acre-feet)         (acre-feet)\\n', '\\n', '          1.000           0.007005           0.000631           0.000631\\n', '          2.000           0.841169           0.252597           0.251966\\n', '          3.000           4.564748           2.687299           2.434702\\n', '          4.000          11.022250          10.301278           7.613979\\n', '          5.000          19.062580          25.255075          14.953796\\n', '\\n', '\\n', '          6.000          27.802485          48.655285          23.400210\\n', '          7.000          36.734705          80.921445          32.266160\\n', '          8.000          45.600272         122.101007          41.179562\\n', '          9.000          54.278139         172.058673          49.957666\\n', '         10.000          62.718316         230.577913          58.519240\\n', '\\n']\n",
      "\n",
      "APPLICATION FILE\n",
      "First 80 lines of the Application file:\n",
      "['\\n', '\\n', '                     TIME and DATE\\n', '           month: 12       day: 12      year:  2023\\n', '           hour: 13  minute: 59   second:    36\\n', '\\n', '\\n', '          STREAM DEPLETION CAUSED BY PUMPING MULTIPLE WELLS AT\\n', '          VARIOUS RATES IN AN INFINITE - STRIP, NON - LEAKY AQUIFER.\\n', '          THE WELLS ARE BETWEEN THE STREAM AND A PLANE BOUNDARY.\\n', '\\n', '                       (Glover and Balmer equation)\\n', '\\n', '\\n', '\\n', '               T =   190.  square ft/day               S = 0.001000\\n', '\\n', '\\n', '                           Number of wells =   1\\n', '\\n', '\\n', '\\n', '               Distance from stream to plane boundary = 15.00 miles\\n', '\\n', '\\n', '\\n', '               Distances of the wells from the stream and the\\n', '                               number of pumping rates\\n', '\\n', '          Well #          Distance (miles)      No. of rates\\n', '               1                   9.86                 1\\n', '\\n', '\\n', '\\n', '\\n', '                     PUMPING SCHEDULES FOR THE WELLS\\n', '\\n', '                    Pumping schedule for well number  1\\n', '\\n', '                        Pumping rate               Pumping time\\n', '              Q(  1) =  359.4  ac-ft/yr    for    100.000  years\\n', '\\n', '\\n', '\\n', '                        Image Control = .10000000E-05\\n', '\\n', '\\n', '                         Time variable (t)  Only 500 timesteps allowed\\n', '\\n', '               t min =   1.000 years;   t max = 100.000 years;\\n', '                         delta t =   1.000  years\\n', '\\n', '\\n', '                                          Accumulated          Depletion\\n', '                         Rate of           Depletion           Volume in\\n', '          Time          Depletion           Volume            Time Period\\n', '         (years)        (ac-ft/yr)        (acre-feet)         (acre-feet)\\n', '\\n', '          1.000           0.003564           0.000296           0.000296\\n', '          2.000           0.639665           0.181855           0.181560\\n', '          3.000           3.857053           2.176421           1.994565\\n', '          4.000           9.756249           8.800064           6.623643\\n', '          5.000          17.316451          22.239349          13.439285\\n', '\\n', '\\n', '          6.000          25.679639          43.696601          21.457252\\n', '          7.000          34.329686          73.691603          29.995002\\n', '          8.000          42.991415         112.358384          38.666781\\n', '          9.000          51.528049         159.631956          47.273572\\n', '         10.000          59.876213         215.351266          55.719309\\n', '\\n', '\\n', '         11.000          68.009843         279.313140          63.961874\\n', '         12.000          75.921208         351.297232          71.984092\\n', '         13.000          83.611290         431.081754          79.784522\\n', '         14.000          91.084951         518.447655          87.365901\\n', '         15.000          98.348590         613.181645          94.733989\\n', '\\n', '\\n', '         16.000         105.409032         715.077104         101.895459\\n']\n"
     ]
    }
   ],
   "source": [
    "# BASELINE FILE\n",
    "# Check if the Baseline file exists\n",
    "if os.path.isfile(baseline_file_path): # Another check that file exists before to action.  If True and file exists, open and read all the lines in the file.\n",
    "    with open(baseline_file_path, \"r\") as file:\n",
    "        # Read all the lines from the file\n",
    "        lines = file.readlines()\n",
    "    \n",
    "    # Print the first 59 lines of the baseline file to see its contents\n",
    "    print(\"\\nBASELINE FILE\\nFirst 80 lines of the Baseline file:\")\n",
    "    print(lines[0:80])  # Print the first 59 lines\n",
    "else:\n",
    "    # The baseline file does not exist\n",
    "    print(\"The Baseline file does not exist.\")\n",
    "\n",
    "\n",
    "# APPLICATION FILE\n",
    "# Check if the Application file exists\n",
    "if os.path.isfile(application_file_path):\n",
    "    with open(application_file_path, \"r\") as file:\n",
    "        # Read all the lines from the file\n",
    "        lines = file.readlines()\n",
    "    \n",
    "    # Print the first 59 lines of the application file to see its contents\n",
    "    print(\"\\nAPPLICATION FILE\\nFirst 80 lines of the Application file:\")\n",
    "    print(lines[0:80])  # Print the first 80 lines\n",
    "else:\n",
    "    # The application file does not exist\n",
    "    print(\"The Application file does not exist.\")"
   ]
  },
  {
   "cell_type": "markdown",
   "metadata": {},
   "source": [
    "## Step 5: Parse baseline and application Files to Extract Depletion Rates"
   ]
  },
  {
   "cell_type": "markdown",
   "metadata": {},
   "source": [
    "**Objective**\n",
    "  \n",
    "- Read and parse both Baseline and Application Fortran-generated text files to extract header information and depletion data.  \n",
    "- Store this data in structured formats (dictionaries and Pandas DataFrames) for further analysis and visualization.\n",
    "\n",
    "**Why This Step?**\n",
    "    \n",
    "- Ensuring that the files exist before attempting to read them prevents runtime errors.\n",
    "- Additionally, inspecting the first few lines helps confirm that the files are in the expected format.\n",
    "\n",
    "**Implementation**\n",
    "    \n",
    "1. Define a Helper Function to Parse Files.\n",
    "2. Parse Both Baseline and Application Files.\n",
    "3. Understand the Extracted Data."
   ]
  },
  {
   "cell_type": "markdown",
   "metadata": {},
   "source": [
    "#### Step 5A: Get Years and Depletion Rate (afa) after reading in files"
   ]
  },
  {
   "cell_type": "markdown",
   "metadata": {},
   "source": [
    "This code block opens and reads the baseline and application files.\n",
    "\n",
    "The resulting lists are examined line by line looking for the strings \"Time\" and \"Depletion\".  \n",
    "\n",
    "When (if!) depletion rates and years are identified, they are saved in lists for additional cleaning. \n",
    "\n",
    "**Explanation**\n",
    "\n",
    "**`if os.path.isfile(file_path)`**\n",
    "- Was used earlier to check if the path contains a file.\n",
    "- If `True`, then the file is opened and read line by line using `open(file_path, \"r\")`.\n",
    "\n",
    "**`split()`**\n",
    "- The `split()` method by default separates a string into a list of words or values when it encounters whitespace.\n",
    "- For instance, if line contains the string \"1.0 0.5\", the result of `line.split()` would be ['1.0', '0.5'], which gets stored in the variable parts.\n",
    "\n",
    "**`if len(parts) >= 2:`**\n",
    "- Checks if a line contains at least two elements, helping prevent errors by ensuring the program proceeds only when valid data is available.\n",
    "- If `True`, elements of the line are saved to a list called `parts`.\n",
    "- For instance, if line contains the text \"1.0 0.5\", then parts will be assigned the value ['1.0', '0.5'], which is then a list containing two elements."
   ]
  },
  {
   "cell_type": "code",
   "execution_count": 7,
   "metadata": {},
   "outputs": [
    {
     "name": "stdout",
     "output_type": "stream",
     "text": [
      "Both files have the same number of years.\n",
      "\n",
      "Baseline Depletion Rates: [0.007005, 0.841169, 4.564748, 11.02225, 19.06258, 27.802485, 36.734705, 45.600272, 54.278139, 62.718316, 70.905617, 78.841005, 86.532326, 93.98984, 101.224174, 108.24546, 115.063027, 121.68536, 128.120157, 134.374423, 140.454574, 146.366527, 152.115777, 157.707466, 163.146432, 168.437253, 173.584285, 178.591685, 183.463438, 188.20337, 192.81517, 197.302394, 201.668481, 205.916759, 210.05045, 214.072683, 217.986488, 221.79481, 225.500507, 229.106362, 232.615071, 236.029263, 239.351489, 242.584231, 245.729903, 248.790853, 251.769365, 254.667661, 257.487904, 260.232196, 262.902583, 265.501057, 268.029555, 270.489961, 272.88411, 275.213786, 277.480725, 279.686617, 281.833107, 283.921794, 285.954234, 287.931942, 289.856391, 291.729018, 293.551215, 295.324344, 297.049725, 298.728643, 300.36235, 301.952062, 303.498966, 305.004213, 306.468925, 307.894194, 309.281082, 310.630623, 311.943822, 313.221658, 314.465083, 315.675024, 316.852383, 317.998036, 319.112839, 320.197621, 321.253191, 322.280335, 323.27982, 324.25239, 325.198769, 326.119664, 327.01576, 327.887724, 328.736208, 329.561843, 330.365245, 331.147012, 331.907726, 332.647956, 333.368252, 334.069151]\n",
      "\n",
      "Application Depletion Rates: [0.003564, 0.639665, 3.857053, 9.756249, 17.316451, 25.679639, 34.329686, 42.991415, 51.528049, 59.876213, 68.009843, 75.921208, 83.61129, 91.084951, 98.34859, 105.409032, 112.273029, 118.947058, 125.437256, 131.74942, 137.889029, 143.861279, 149.671112, 155.323245, 160.822195, 166.172298, 171.377731, 176.442517, 181.370548, 186.165585, 190.831273, 195.371143, 199.788622, 204.087036, 208.269614, 212.339494, 216.299725, 220.153271, 223.903014, 227.551751, 231.102217, 234.557057, 237.918851, 241.190106, 244.373262, 247.470694, 250.484711, 253.41756, 256.271428, 259.048443, 261.750673, 264.380134, 266.938786, 269.428535, 271.851237, 274.208698, 276.502675, 278.734877, 280.906968, 283.020567, 285.077249, 287.078546, 289.025951, 290.920909, 292.764842, 294.559121, 296.305081, 298.004025, 299.657218, 301.265892, 302.831246, 304.354447, 305.836629, 307.278899, 308.682329, 310.047966, 311.376829, 312.669906, 313.928163, 315.152536, 316.343937, 317.503256, 318.631355, 319.729076, 320.797237, 321.836633, 322.848039, 323.832209, 324.789877, 325.721755, 326.628539, 327.510905, 328.369509, 329.204992, 330.017976, 330.809068, 331.578856, 332.327915, 333.056802, 333.766061]\n",
      "\n",
      "Years in the input files:\n",
      "[1.0, 2.0, 3.0, 4.0, 5.0, 6.0, 7.0, 8.0, 9.0, 10.0, 11.0, 12.0, 13.0, 14.0, 15.0, 16.0, 17.0, 18.0, 19.0, 20.0, 21.0, 22.0, 23.0, 24.0, 25.0, 26.0, 27.0, 28.0, 29.0, 30.0, 31.0, 32.0, 33.0, 34.0, 35.0, 36.0, 37.0, 38.0, 39.0, 40.0, 41.0, 42.0, 43.0, 44.0, 45.0, 46.0, 47.0, 48.0, 49.0, 50.0, 51.0, 52.0, 53.0, 54.0, 55.0, 56.0, 57.0, 58.0, 59.0, 60.0, 61.0, 62.0, 63.0, 64.0, 65.0, 66.0, 67.0, 68.0, 69.0, 70.0, 71.0, 72.0, 73.0, 74.0, 75.0, 76.0, 77.0, 78.0, 79.0, 80.0, 81.0, 82.0, 83.0, 84.0, 85.0, 86.0, 87.0, 88.0, 89.0, 90.0, 91.0, 92.0, 93.0, 94.0, 95.0, 96.0, 97.0, 98.0, 99.0, 100.0]\n",
      "\n"
     ]
    }
   ],
   "source": [
    "# Initialize lists to hold the parsed years and depletion rates for both files\n",
    "depletion_rates_baseline = []\n",
    "depletion_rates_application = []\n",
    "years_baseline = []\n",
    "years_application = []\n",
    "\n",
    "for file_path in files_to_check:\n",
    "    if os.path.isfile(file_path): # Another check that file exists before to action\n",
    "        # Open the file for reading    \n",
    "        with open(file_path, \"r\") as file:\n",
    "            # Read lines from the file\n",
    "            lines = file.readlines()\n",
    "\n",
    "        # Initialize a flag to indicate when to start collecting depletion data\n",
    "        start_collecting = False\n",
    "\n",
    "        # Parse each line to extract the Year and Depletion Rate\n",
    "        for line in lines:\n",
    "            # Check if the line contains the start of depletion data\n",
    "            if 'Time' in line and 'Depletion' in line:\n",
    "                start_collecting = True\n",
    "                continue\n",
    "\n",
    "            # If the flag is True, then process the line\n",
    "            if start_collecting:\n",
    "                parts = line.split()\n",
    "                if len(parts) >= 2:\n",
    "                    try:\n",
    "                        # Attempt to convert the first part to a float (year)                    \n",
    "                        year = float(parts[0])\n",
    "                        # Attempt to convert the second part to a float (depletion rate)\n",
    "                        depletion_rate = float(parts[1])\n",
    "                        \n",
    "                        # Append the year and depletion rate to the appropriate lists\n",
    "                        if file_path == baseline_file_path:\n",
    "                            years_baseline.append(year)\n",
    "                            depletion_rates_baseline.append(depletion_rate)\n",
    "                        else:\n",
    "                            years_application.append(year)\n",
    "                            depletion_rates_application.append(depletion_rate)\n",
    "                    except ValueError:\n",
    "                        # If conversion fails, likely not a data line; skip it\n",
    "                        continue\n",
    "\n",
    "    else:\n",
    "        # The file does not exist\n",
    "        print(f\"The file {file_path} does not exist.\")\n",
    "        continue\n",
    "\n",
    "# ERROR CHECKING\n",
    "# check if the number of years is the same for both files\n",
    "if len(years_baseline) != len(years_application):\n",
    "    print(\"Error: The number of years in the Baseline and Application files is different!\")\n",
    "else:\n",
    "    # If the number of years is the same, you can proceed with further processing.\n",
    "    print(\"Both files have the same number of years.\\n\")\n",
    "    print(f\"Baseline Depletion Rates: {depletion_rates_baseline}\\n\")\n",
    "    print(f\"Application Depletion Rates: {depletion_rates_application}\\n\")\n",
    "\n",
    "print(f\"Years in the input files:\\n{years_baseline}\\n\")"
   ]
  },
  {
   "cell_type": "markdown",
   "metadata": {},
   "source": [
    "### Step 5B: Change display of depletion data to facilitate double-check with output file"
   ]
  },
  {
   "cell_type": "markdown",
   "metadata": {},
   "source": [
    "**Explanation**\n",
    "\n",
    "The code iterates over two lists simultaneously: years_baseline and depletion_rates_baseline.\n",
    "It uses the zip() function to pair corresponding elements from both lists.\n",
    "The process repeats for application data.\n",
    "\n",
    "**`for year_baseline, rate_baseline in zip(years_baseline, depletion_rates_baseline):`**\n",
    "   - The `zip()` function combines the two lists (`years_baseline` and `depletion_rates_baseline`) into pairs of values.\n",
    "   - For every iteration of the loop, it takes one item from the `years_baseline` list and one item from the `depletion_rates_baseline` list.\n",
    "   - `year_baseline` will take the value from `years_baseline`, and `rate_baseline` will take the corresponding value from `depletion_rates_baseline`.\n",
    "   - This means that if `years_baseline` has a value representing the year (like `2020`), then `rate_baseline` will correspond to the depletion rate for that year.\n",
    "\n",
    "**Why are we doing this?**\n",
    "   - We're getting the data into a format that we can compare with the original Glover-Balmer output files to make sure they are the same.\n",
    "   - It's a visual double-check.\n",
    "   - The code block after this puts the data into a DataFrame, but not here."
   ]
  },
  {
   "cell_type": "code",
   "execution_count": 8,
   "metadata": {},
   "outputs": [
    {
     "name": "stdout",
     "output_type": "stream",
     "text": [
      "Year, Baseline Depletion Rate (ac-ft/yr)\n",
      "1.0, 0.007005\n",
      "2.0, 0.841169\n",
      "3.0, 4.564748\n",
      "4.0, 11.02225\n",
      "5.0, 19.06258\n",
      "6.0, 27.802485\n",
      "7.0, 36.734705\n",
      "8.0, 45.600272\n",
      "9.0, 54.278139\n",
      "10.0, 62.718316\n",
      "11.0, 70.905617\n",
      "12.0, 78.841005\n",
      "13.0, 86.532326\n",
      "14.0, 93.98984\n",
      "15.0, 101.224174\n",
      "16.0, 108.24546\n",
      "17.0, 115.063027\n",
      "18.0, 121.68536\n",
      "19.0, 128.120157\n",
      "20.0, 134.374423\n",
      "21.0, 140.454574\n",
      "22.0, 146.366527\n",
      "23.0, 152.115777\n",
      "24.0, 157.707466\n",
      "25.0, 163.146432\n",
      "26.0, 168.437253\n",
      "27.0, 173.584285\n",
      "28.0, 178.591685\n",
      "29.0, 183.463438\n",
      "30.0, 188.20337\n",
      "31.0, 192.81517\n",
      "32.0, 197.302394\n",
      "33.0, 201.668481\n",
      "34.0, 205.916759\n",
      "35.0, 210.05045\n",
      "36.0, 214.072683\n",
      "37.0, 217.986488\n",
      "38.0, 221.79481\n",
      "39.0, 225.500507\n",
      "40.0, 229.106362\n",
      "41.0, 232.615071\n",
      "42.0, 236.029263\n",
      "43.0, 239.351489\n",
      "44.0, 242.584231\n",
      "45.0, 245.729903\n",
      "46.0, 248.790853\n",
      "47.0, 251.769365\n",
      "48.0, 254.667661\n",
      "49.0, 257.487904\n",
      "50.0, 260.232196\n",
      "51.0, 262.902583\n",
      "52.0, 265.501057\n",
      "53.0, 268.029555\n",
      "54.0, 270.489961\n",
      "55.0, 272.88411\n",
      "56.0, 275.213786\n",
      "57.0, 277.480725\n",
      "58.0, 279.686617\n",
      "59.0, 281.833107\n",
      "60.0, 283.921794\n",
      "61.0, 285.954234\n",
      "62.0, 287.931942\n",
      "63.0, 289.856391\n",
      "64.0, 291.729018\n",
      "65.0, 293.551215\n",
      "66.0, 295.324344\n",
      "67.0, 297.049725\n",
      "68.0, 298.728643\n",
      "69.0, 300.36235\n",
      "70.0, 301.952062\n",
      "71.0, 303.498966\n",
      "72.0, 305.004213\n",
      "73.0, 306.468925\n",
      "74.0, 307.894194\n",
      "75.0, 309.281082\n",
      "76.0, 310.630623\n",
      "77.0, 311.943822\n",
      "78.0, 313.221658\n",
      "79.0, 314.465083\n",
      "80.0, 315.675024\n",
      "81.0, 316.852383\n",
      "82.0, 317.998036\n",
      "83.0, 319.112839\n",
      "84.0, 320.197621\n",
      "85.0, 321.253191\n",
      "86.0, 322.280335\n",
      "87.0, 323.27982\n",
      "88.0, 324.25239\n",
      "89.0, 325.198769\n",
      "90.0, 326.119664\n",
      "91.0, 327.01576\n",
      "92.0, 327.887724\n",
      "93.0, 328.736208\n",
      "94.0, 329.561843\n",
      "95.0, 330.365245\n",
      "96.0, 331.147012\n",
      "97.0, 331.907726\n",
      "98.0, 332.647956\n",
      "99.0, 333.368252\n",
      "100.0, 334.069151\n",
      "\n",
      "\n",
      "Year, Application Depletion Rate (ac-ft/yr)\n",
      "1.0, 0.003564\n",
      "2.0, 0.639665\n",
      "3.0, 3.857053\n",
      "4.0, 9.756249\n",
      "5.0, 17.316451\n",
      "6.0, 25.679639\n",
      "7.0, 34.329686\n",
      "8.0, 42.991415\n",
      "9.0, 51.528049\n",
      "10.0, 59.876213\n",
      "11.0, 68.009843\n",
      "12.0, 75.921208\n",
      "13.0, 83.61129\n",
      "14.0, 91.084951\n",
      "15.0, 98.34859\n",
      "16.0, 105.409032\n",
      "17.0, 112.273029\n",
      "18.0, 118.947058\n",
      "19.0, 125.437256\n",
      "20.0, 131.74942\n",
      "21.0, 137.889029\n",
      "22.0, 143.861279\n",
      "23.0, 149.671112\n",
      "24.0, 155.323245\n",
      "25.0, 160.822195\n",
      "26.0, 166.172298\n",
      "27.0, 171.377731\n",
      "28.0, 176.442517\n",
      "29.0, 181.370548\n",
      "30.0, 186.165585\n",
      "31.0, 190.831273\n",
      "32.0, 195.371143\n",
      "33.0, 199.788622\n",
      "34.0, 204.087036\n",
      "35.0, 208.269614\n",
      "36.0, 212.339494\n",
      "37.0, 216.299725\n",
      "38.0, 220.153271\n",
      "39.0, 223.903014\n",
      "40.0, 227.551751\n",
      "41.0, 231.102217\n",
      "42.0, 234.557057\n",
      "43.0, 237.918851\n",
      "44.0, 241.190106\n",
      "45.0, 244.373262\n",
      "46.0, 247.470694\n",
      "47.0, 250.484711\n",
      "48.0, 253.41756\n",
      "49.0, 256.271428\n",
      "50.0, 259.048443\n",
      "51.0, 261.750673\n",
      "52.0, 264.380134\n",
      "53.0, 266.938786\n",
      "54.0, 269.428535\n",
      "55.0, 271.851237\n",
      "56.0, 274.208698\n",
      "57.0, 276.502675\n",
      "58.0, 278.734877\n",
      "59.0, 280.906968\n",
      "60.0, 283.020567\n",
      "61.0, 285.077249\n",
      "62.0, 287.078546\n",
      "63.0, 289.025951\n",
      "64.0, 290.920909\n",
      "65.0, 292.764842\n",
      "66.0, 294.559121\n",
      "67.0, 296.305081\n",
      "68.0, 298.004025\n",
      "69.0, 299.657218\n",
      "70.0, 301.265892\n",
      "71.0, 302.831246\n",
      "72.0, 304.354447\n",
      "73.0, 305.836629\n",
      "74.0, 307.278899\n",
      "75.0, 308.682329\n",
      "76.0, 310.047966\n",
      "77.0, 311.376829\n",
      "78.0, 312.669906\n",
      "79.0, 313.928163\n",
      "80.0, 315.152536\n",
      "81.0, 316.343937\n",
      "82.0, 317.503256\n",
      "83.0, 318.631355\n",
      "84.0, 319.729076\n",
      "85.0, 320.797237\n",
      "86.0, 321.836633\n",
      "87.0, 322.848039\n",
      "88.0, 323.832209\n",
      "89.0, 324.789877\n",
      "90.0, 325.721755\n",
      "91.0, 326.628539\n",
      "92.0, 327.510905\n",
      "93.0, 328.369509\n",
      "94.0, 329.204992\n",
      "95.0, 330.017976\n",
      "96.0, 330.809068\n",
      "97.0, 331.578856\n",
      "98.0, 332.327915\n",
      "99.0, 333.056802\n",
      "100.0, 333.766061\n"
     ]
    }
   ],
   "source": [
    "# BASELINE\n",
    "# Double-check that the x-y data used to create the plot are correct\n",
    "print(\"Year, Baseline Depletion Rate (ac-ft/yr)\")\n",
    "# Print the data for the Baseline\n",
    "for year_baseline, rate_baseline in zip(years_baseline, depletion_rates_baseline):\n",
    "    print(f\"{year_baseline}, {rate_baseline}\")\n",
    "\n",
    "# APPLICATION\n",
    "print(\"\\n\\nYear, Application Depletion Rate (ac-ft/yr)\")\n",
    "# Print the data for the Application\n",
    "for year_application, rate_application in zip(years_application, depletion_rates_application):\n",
    "    print(f\"{year_application}, {rate_application}\")"
   ]
  },
  {
   "cell_type": "markdown",
   "metadata": {},
   "source": [
    "### Step 5C: Convert lists to pandas DataFrame and calculate net depletion rate"
   ]
  },
  {
   "cell_type": "markdown",
   "metadata": {},
   "source": [
    "**Explanation**\n",
    "\n",
    "This code block creates a DataFrame with years as the index and depletion rates as data.   Then net depletion is calculated and added to the DataFrame.\n",
    "\n",
    "Equation: *Net Depletion = (Depletion Rates, Application) - (Depletion Rates, Baseline)*\n",
    "\n",
    "The index of the DataFrame is comprised of values from `years_baseline`, which represent years formatted as floating point numbers."
   ]
  },
  {
   "cell_type": "code",
   "execution_count": 9,
   "metadata": {},
   "outputs": [
    {
     "name": "stdout",
     "output_type": "stream",
     "text": [
      "       Depletion_Rates_Baseline  Depletion_Rates_Application  Net_Depletion\n",
      "1.0                    0.007005                     0.003564      -0.003441\n",
      "2.0                    0.841169                     0.639665      -0.201504\n",
      "3.0                    4.564748                     3.857053      -0.707695\n",
      "4.0                   11.022250                     9.756249      -1.266001\n",
      "5.0                   19.062580                    17.316451      -1.746129\n",
      "...                         ...                          ...            ...\n",
      "96.0                 331.147012                   330.809068      -0.337944\n",
      "97.0                 331.907726                   331.578856      -0.328870\n",
      "98.0                 332.647956                   332.327915      -0.320041\n",
      "99.0                 333.368252                   333.056802      -0.311450\n",
      "100.0                334.069151                   333.766061      -0.303090\n",
      "\n",
      "[100 rows x 3 columns]\n"
     ]
    }
   ],
   "source": [
    "# Create a DataFrame using years_baseline as the index\n",
    "df = pd.DataFrame({\n",
    "    'Depletion_Rates_Baseline': depletion_rates_baseline,\n",
    "    'Depletion_Rates_Application': depletion_rates_application\n",
    "}, index=years_baseline)  # Use years_baseline directly as the index\n",
    "\n",
    "# Calculate net_depletion as the difference between application and baseline rates\n",
    "df['Net_Depletion'] = df['Depletion_Rates_Application'] - df['Depletion_Rates_Baseline']\n",
    "\n",
    "# Print the head of the DataFrame to check the output\n",
    "print(df.head(100))"
   ]
  },
  {
   "cell_type": "markdown",
   "metadata": {},
   "source": [
    "### Step 5D: Save Timeseries Data as CSV File for Making Report Tables"
   ]
  },
  {
   "cell_type": "markdown",
   "metadata": {},
   "source": [
    "**Explanation**\n",
    "\n",
    "Save DataFrame as a CSV file.\n",
    "\n",
    "To keep track of the files and avoid overwriting them, use `datetime.now()` to add a timestamp to the file name.\n"
   ]
  },
  {
   "cell_type": "code",
   "execution_count": 10,
   "metadata": {},
   "outputs": [
    {
     "name": "stdout",
     "output_type": "stream",
     "text": [
      "DataFrame has been saved to: 'depletion_data_20250108_141125.csv'.\n"
     ]
    }
   ],
   "source": [
    "# Create a timestamp string in the format YYYYMMDD_HHMMSS\n",
    "timestamp = datetime.now().strftime(\"%Y%m%d_%H%M%S\")\n",
    "\n",
    "# Create a CSV filename with the timestamp\n",
    "csv_filename = f'depletion_data_{timestamp}.csv'\n",
    "\n",
    "# Save the DataFrame df to the CSV file with the timestamp\n",
    "df.to_csv(csv_filename, index=True)  # Set index=True to include the year index in the CSV file\n",
    "\n",
    "print(f\"DataFrame has been saved to: '{csv_filename}'.\")"
   ]
  },
  {
   "cell_type": "markdown",
   "metadata": {},
   "source": [
    "# Step 6: Plot Net Depletion"
   ]
  },
  {
   "cell_type": "markdown",
   "metadata": {},
   "source": [
    "### Step 6A: Plotting"
   ]
  },
  {
   "cell_type": "markdown",
   "metadata": {},
   "source": [
    "Let's plot up net depletion."
   ]
  },
  {
   "cell_type": "code",
   "execution_count": 11,
   "metadata": {},
   "outputs": [
    {
     "data": {
      "image/png": "[encoded data removed]",
      "text/plain": [
       "<Figure size 1000x600 with 1 Axes>"
      ]
     },
     "metadata": {},
     "output_type": "display_data"
    }
   ],
   "source": [
    "# Create a line plot for net depletion\n",
    "plt.figure(figsize=(10, 6))  # Set the figure size\n",
    "\n",
    "# Plotting 'Net_Depletion' against 'year' index\n",
    "plt.plot(df.index, df['Net_Depletion'], color='blue', marker='o', \n",
    "         markersize=5, markeredgecolor='blue', markerfacecolor='lightblue', \n",
    "         label='Net Depletion')  # Customize the line and markers\n",
    "\n",
    "# Set the x-axis ticks and labels at every 10 years\n",
    "plt.xticks(ticks=[year for year in df.index if year % 10 == 0])  # Adjust ticks every 10 years\n",
    "plt.xlabel('Year')  # X-axis label\n",
    "plt.ylabel('Net Depletion')  # Y-axis label\n",
    "plt.title('Net Depletion Over Time')  # Plot title\n",
    "\n",
    "# Adding grid for better readability\n",
    "plt.grid()\n",
    "\n",
    "# Show legend (if needed)\n",
    "plt.legend()\n",
    "\n",
    "# Display the plot\n",
    "plt.show()"
   ]
  },
  {
   "cell_type": "markdown",
   "metadata": {},
   "source": [
    "# Step 7: Some Plot Improvments"
   ]
  },
  {
   "cell_type": "markdown",
   "metadata": {},
   "source": [
    "**Explanation**\n",
    "\n",
    "Let's update the plot to:\n",
    "- <u>Add annotations for Transmissivity and Storativity.<u/>\n",
    "- <u>Make it more visually appealing.<u/>\n",
    "\n",
    "   - Here's an excellent [article on background colors by Lisa Charlotte Muth](https://blog.datawrapper.de/background-color-of-data-visualizations/), who analyzed hundreds of charts from leading organizations.  Mouse-over the figures for some cool examples of data visualization.\n",
    "   - The article also shares a really nice [post by Sarah Leo](https://medium.economist.com/mistakes-weve-drawn-a-few-8cdd8a42d368), a visual data journalist at [The Economist](https://www.economist.com/).  It presents lots of examples of plots from The Economist and how they made them better.\n",
    "<br>\n",
    "<br>\n",
    "\n",
    "**Applying the Principles Lisa Charlotte Muth:**\n",
    "\n",
    "<u>Light-Mode Chart Example:<u/>\n",
    "- Background Color: Use a very light, warm beige or pale yellow with low saturation (e.g., #fdf6e3).\n",
    "- Data Elements: Use darker colors like dark gray or navy blue for lines and text to ensure high contrast.\n",
    "- Gridlines and Annotations: Use subtle colors that are slightly darker than the background to avoid drawing attention away from the data.\n",
    "\n",
    "<u>Dark-Mode Chart Example:<u\\>\n",
    "- Background Color: Opt for a dark gray instead of pure black (e.g., #2e2e2e).\n",
    "- Data Elements: Use light colors such as whites or light blues for data lines and text to stand out against the dark background.\n",
    "- Visual Comfort: Ensure that the overall contrast is balanced to prevent eye strain.\n",
    "\n",
    "OK, now the code!"
   ]
  },
  {
   "cell_type": "markdown",
   "metadata": {},
   "source": [
    "### Step 7A: Define a Funtion to Read Files and Extract T and S Values"
   ]
  },
  {
   "cell_type": "markdown",
   "metadata": {},
   "source": [
    "**Explanation**\n",
    "\n",
    "- The function `parse_fortran_file` reads through the lines of that single file, looking for the T and S values based on the defined regex pattern\n",
    "- The function is called in the following code block and returns a dictionary, denoted by `{...}`, which contains the extracted values of T and S.\n",
    "- It also converts T values from square feet per day to gallons per day per foot of drawdown."
   ]
  },
  {
   "cell_type": "code",
   "execution_count": 12,
   "metadata": {},
   "outputs": [],
   "source": [
    "# re is used to import the regular expressions module for pattern matching\n",
    "# np is used for using NaN and numerical operations\n",
    "\n",
    "def parse_fortran_file(file_path):\n",
    "    \"\"\"\n",
    "    Parses a Fortran output file and extracts Transmissivity (T) and Storativity (S) values.\n",
    "    \n",
    "    Parameters:\n",
    "        file_path (str): The path to the Fortran output file.\n",
    "    \n",
    "    Returns:\n",
    "        headers (dict): A dictionary containing Transmissivity (T) and Storativity (S) values.\n",
    "    \"\"\"\n",
    "    # Initialize headers dictionary to store extracted data\n",
    "    headers = {}\n",
    "\n",
    "    # Open the file for reading\n",
    "    with open(file_path, 'r') as file:\n",
    "        # Read all lines from the file\n",
    "        lines = file.readlines()\n",
    "\n",
    "        # Loop through each line to extract necessary values\n",
    "        for line in lines:\n",
    "            # Check if the line contains both Transmissivity and Storativity information\n",
    "            if 'T =' in line and 'S =' in line:\n",
    "                # Define the regex pattern to match T and S values\n",
    "                t_s_pattern = r'T\\s*=\\s*([\\d\\.]+)\\s*.*S\\s*=\\s*([\\d\\.]+)'\n",
    "                match = re.search(t_s_pattern, line)\n",
    "                \n",
    "                if match:  # If a match is found\n",
    "                    T_sq_ft_day = float(match.group(1))  # Extract T value as float\n",
    "                    S = float(match.group(2))  # Extract S value as float\n",
    "                    \n",
    "                    # Store values in the headers dictionary\n",
    "                    headers['Transmissivity_sq_ft_day'] = T_sq_ft_day\n",
    "                    headers['Transmissivity_gpd_ft'] = T_sq_ft_day * 7.48  # Convert T to gallons/day\n",
    "                    headers['Storativity_S'] = S\n",
    "                \n",
    "                break  # Exit the loop after finding the required values\n",
    "\n",
    "    return headers  # Return the headers dictionary containing T and S values\n"
   ]
  },
  {
   "cell_type": "markdown",
   "metadata": {},
   "source": [
    "<u>**Explanation of the `parse_fortran_file` Function**<u/>\n",
    "\n",
    "The goal is to extract Transmissivity (T) and Storativity (S) values for later use as plot annotations.\n",
    "\n",
    "1. **File Path Input**:\n",
    "    - The function accepts a single parameter, `file_path`, which is a string representing the path to the Application and Basline output files.\n",
    "<br>\n",
    "<br>\n",
    "2. **Checking File Existence**:\n",
    "   - The function prints a message indicating that it is checking the specified file path.\n",
    "   - It uses the `os.path.isfile()` method to determine if the file exists.\n",
    "   - If the file is found, it prints a success message confirming that the file exists.\n",
    "<br>\n",
    "<br>\n",
    "3. **Error Handling**:\n",
    "   - If the file does not exist, the function prints an error message indicating that the specified file could not be found.\n",
    "   - The function returns `True` if the file exists and `False` if it does not."
   ]
  },
  {
   "cell_type": "markdown",
   "metadata": {},
   "source": [
    "<u>**Using Regular Expressions**<u/>\n",
    "\n",
    "*Yes, this is confusing to me too!  But using the string approaches used for depletion rates didn't work for T and S.  So, let's learn about regular expressions.  Bear with me!*\n",
    "\n",
    "1. The regular expression will search for the `T` and `S` values in the data using the pattern: \n",
    "   `t_s_pattern = r'T\\s*=\\s*([\\d\\.]+)\\s*.*S\\s*=\\s*([\\d\\.]+)'`\n",
    "<br>\n",
    "<br>\n",
    "2. **Pattern Prefix `r`**:\n",
    "    - The `r` before the string indicates this is a **raw string**. In raw strings, backslashes are treated literally, helping avoid confusion in patterns that use backslashes.\n",
    "<br>\n",
    "<br>\n",
    "3. **`T\\s*=\\s*`**:\n",
    "    - `T`: Matches the character T for Transmissivity.\n",
    "    - `\\s*`: Matches any whitespace character (like spaces or tabs) occurring zero or more times, allowing for spaces before and after the equals sign.\n",
    "    - `=`: Matches the equals sign literally.\n",
    "<br>\n",
    "<br>\n",
    "4. **`([\\d\\.]+)`**:\n",
    "    - `[...]`: Defines a character class matching any of the characters inside the brackets.\n",
    "    - `\\d`: Matches any digit (0-9).\n",
    "    - `.`: Matches a literal dot (decimal point).\n",
    "    - `+`: Means \"one or more\" occurrences of the preceding character class.\n",
    "    - `(...)`: Creates a capturing group, allowing you to retrieve matched values later. It captures the numeric value for Transmissivity.\n",
    "<br>\n",
    "<br>\n",
    "5. **`\\s*.*`**:\n",
    "    - `\\s*`: Matches any amount of whitespace (zero or more).\n",
    "    - `.*`: Matches any character (the `.`) zero or more times (the `*`), allowing for additional text between the `T` and `S` values.\n",
    "<br>\n",
    "<br>\n",
    "6. **`S\\s*=\\s*`**:\n",
    "    - Mirrors the structure for Transmissivity but for Storativity:\n",
    "    - `S`: Matches the character `S`, indicating Storativity.\n",
    "    - `\\s*=\\s*`: Matches spaces around the equals sign for `S`.\n",
    "<br>\n",
    "<br>\n",
    "7. **`([\\d\\.]+)`**:\n",
    "    - Similar to the earlier capturing group; it captures the numeric value for Storativity (like `0.001`)."
   ]
  },
  {
   "cell_type": "markdown",
   "metadata": {},
   "source": [
    "### Step 7B: Call Function to Gather, Organize and Check T and S Values"
   ]
  },
  {
   "cell_type": "markdown",
   "metadata": {},
   "source": [
    "**Explanation**\n",
    "\n",
    "- Use the `parse_fortran_file` function by calling it twice, once for the baseline file and once for the application file.\n",
    "- The function processes both the Baseline and Application, gathers results from each file into separate variables (`baseline_headers` and `application_headers` in a dicationary called `T_S_values`, after checking for the consistency of T and S values between the two headers."
   ]
  },
  {
   "cell_type": "code",
   "execution_count": 13,
   "metadata": {},
   "outputs": [
    {
     "name": "stdout",
     "output_type": "stream",
     "text": [
      "Extracted values are the same for both files: {'Transmissivity_sq_ft_day': 190.0, 'Transmissivity_gpd_ft': 1421.2, 'Storativity_S': 0.001}\n"
     ]
    }
   ],
   "source": [
    "# Parse both the baseline and application files\n",
    "baseline_headers = parse_fortran_file(baseline_file_path)\n",
    "application_headers = parse_fortran_file(application_file_path)\n",
    "\n",
    "# Initialize a structure to store T and S values for annotation\n",
    "T_S_values = {\n",
    "    'Transmissivity_sq_ft_day': baseline_headers['Transmissivity_sq_ft_day'],  # Store Baseline T\n",
    "    'Transmissivity_gpd_ft': baseline_headers['Transmissivity_gpd_ft'],  # Store converted Baseline T\n",
    "    'Storativity_S': baseline_headers['Storativity_S']  # Store Baseline S\n",
    "}\n",
    "\n",
    "# Check if T and S values are the same for both files\n",
    "if (baseline_headers['Transmissivity_sq_ft_day'] == application_headers['Transmissivity_sq_ft_day'] and\n",
    "    baseline_headers['Storativity_S'] == application_headers['Storativity_S']):\n",
    "    \n",
    "    print(\"Extracted values are the same for both files:\", T_S_values)\n",
    "else:\n",
    "    print(\"Error: Transmissivity or Storativity values differ between baseline and application files.\")"
   ]
  },
  {
   "cell_type": "markdown",
   "metadata": {},
   "source": [
    "### Step 7C: Find Year of Maximum (+ or -) Net Depletion for Plot Annotation"
   ]
  },
  {
   "cell_type": "code",
   "execution_count": 14,
   "metadata": {},
   "outputs": [
    {
     "name": "stdout",
     "output_type": "stream",
     "text": [
      "The maximum depletion of -2.921036000000001 occurs in year 13.0.\n"
     ]
    }
   ],
   "source": [
    "# Find the year with the maximum net depletion\n",
    "year_max_net_dep = df['Net_Depletion'].idxmin()  # Get the year with the smallest value (greatest negative impact)\n",
    "max_depletion_value = df['Net_Depletion'].min()  # Get the maximum negative net depletion value\n",
    "\n",
    "print(f'The maximum depletion of {max_depletion_value} occurs in year {year_max_net_dep}.')"
   ]
  },
  {
   "cell_type": "markdown",
   "metadata": {},
   "source": [
    "### Step 7C: Updated Plot"
   ]
  },
  {
   "cell_type": "markdown",
   "metadata": {},
   "source": [
    "**Explanation**\n",
    "\n",
    "- Add annotations for T and S.\n",
    "- Improve the look of the plot."
   ]
  },
  {
   "cell_type": "code",
   "execution_count": 15,
   "metadata": {},
   "outputs": [
    {
     "data": {
      "image/png": "[encoded data removed]",
      "text/plain": [
       "<Figure size 1000x600 with 1 Axes>"
      ]
     },
     "metadata": {},
     "output_type": "display_data"
    }
   ],
   "source": [
    "# Create a line plot for net depletion\n",
    "fig, ax = plt.subplots(figsize=(10, 6))  # Set the figure size\n",
    "\n",
    "# Set a warm, very light, desaturated background color\n",
    "ax.set_facecolor('#fdf6e3')  # Solarized light background color (very light, warm beige)\n",
    "\n",
    "# Plotting 'Net_Depletion' against 'year' index\n",
    "ax.plot(\n",
    "    df.index,\n",
    "    df['Net_Depletion'],\n",
    "    color='#2e3436',  # Dark gray color for the line\n",
    "    marker='o',\n",
    "    markersize=5,\n",
    "    markeredgecolor='#2e3436',\n",
    "    markerfacecolor='#729fcf',  # Light desaturated blue for marker face\n",
    "    label='Net Depletion'\n",
    ")\n",
    "\n",
    "# Set the x-axis ticks and labels at every 10 years\n",
    "ax.set_xticks([year for year in df.index if year % 10 == 0])  # Adjust ticks every 10 years\n",
    "ax.set_xlabel('Year')  # X-axis label\n",
    "ax.set_ylabel('Net Depletion (acre-ft/year)')  # Y-axis label\n",
    "ax.set_title('Example Plot of Net Depletion')  # Plot title\n",
    "\n",
    "# Adding grid for better readability with lighter color and transparency\n",
    "ax.grid(color='gray', alpha=0.5)  # Set color to gray and transparency to 50%\n",
    "\n",
    "# Set the y-axis limits to a minimum of -8 and a maximum of 4\n",
    "ax.set_ylim(-8, 4)\n",
    "\n",
    "# Set the x-axis limits based on minimum and maximum values of the index (years)\n",
    "ax.set_xlim(min(df.index), max(df.index))\n",
    "\n",
    "# Round and format the Transmissivity and Storativity values\n",
    "rounded_T = round(T_S_values[\"Transmissivity_gpd_ft\"], 1)  # Round T value to one decimal place\n",
    "formatted_S = \"{:.3f}\".format(T_S_values[\"Storativity_S\"])  # Format S to three decimal places without unnecessary zeros\n",
    "\n",
    "# Create a bounding box for annotations\n",
    "bbox_props = dict(boxstyle='round,pad=0.5', edgecolor='#bbbdbd', facecolor='#ffffea', alpha=0.9)  # Use colors similar to the legend\n",
    "\n",
    "# New text string to be displayed above T\n",
    "additional_text = \"Net Depletion is calculated as Proposed depletion minus Baseline depletion, \\nwhere positive values are increased depletion from the proposed scenario.\"\n",
    "\n",
    "# Create the annotation text\n",
    "annotation_text = f\"The greatest Net Depletion occurs in year {year_max_net_dep}.\"\n",
    "\n",
    "# Combine the text strings for annotation\n",
    "text_str = f\"{additional_text}\\nThe greatest Net Depletion occurs in year {year_max_net_dep}.\\nT: {rounded_T} sq ft/day\\nS: {formatted_S}\"  # Add the additional text above T\n",
    "\n",
    "ax.annotate(\n",
    "    text_str,\n",
    "    xy=(0, 1),  # Position near the top left of the figure\n",
    "    xycoords='axes fraction',  # Coordinates are given as a fraction of the axes\n",
    "    textcoords=\"offset points\",\n",
    "    xytext=(10, -65),  # Offset down for spacing\n",
    "    ha='left',  # Left alignment for text\n",
    "    color='#2e3436',  # Dark gray color for text\n",
    "    bbox=bbox_props  # Apply the bounding box properties for background\n",
    ")\n",
    "\n",
    "# Show legend\n",
    "ax.legend()\n",
    "\n",
    "# Adjust the layout to prevent clipping of labels\n",
    "plt.tight_layout()\n",
    "\n",
    "# Save the figure as a PNG file called 'net_depletion_with_annotations.png'\n",
    "plt.savefig('net_depletion_with_annotations.png', format='png', dpi=300)\n",
    "\n",
    "# Display the plot\n",
    "plt.show()"
   ]
  },
  {
   "cell_type": "code",
   "execution_count": null,
   "metadata": {},
   "outputs": [],
   "source": []
  }
 ],
 "metadata": {
  "kernelspec": {
   "display_name": "Python 3 (ipykernel)",
   "language": "python",
   "name": "python3"
  },
  "language_info": {
   "codemirror_mode": {
    "name": "ipython",
    "version": 3
   },
   "file_extension": ".py",
   "mimetype": "text/x-python",
   "name": "python",
   "nbconvert_exporter": "python",
   "pygments_lexer": "ipython3",
   "version": "3.12.8"
  }
 },
 "nbformat": 4,
 "nbformat_minor": 4
}
